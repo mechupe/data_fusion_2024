{
 "cells": [
  {
   "cell_type": "code",
   "execution_count": 1,
   "id": "ca016a97-b7d7-4bed-bb9e-24f80230bc4d",
   "metadata": {
    "scrolled": true
   },
   "outputs": [],
   "source": [
    "# ! pip install -r ../requirements-dev.txt"
   ]
  },
  {
   "cell_type": "code",
   "execution_count": 2,
   "id": "ec68fd0a-3e0c-484a-8099-13dfe425d52c",
   "metadata": {},
   "outputs": [],
   "source": [
    "import pandas as pd\n",
    "import plotly.express as px\n",
    "import numpy as np\n",
    "from pathlib import Path\n",
    "import h3"
   ]
  },
  {
   "cell_type": "markdown",
   "id": "a273ccaa-db0a-4a86-9cb7-a4d520aad609",
   "metadata": {},
   "source": [
    "## Собираем табличку с трейн данными"
   ]
  },
  {
   "cell_type": "code",
   "execution_count": 3,
   "id": "da1f77e0-eadc-461e-9bdf-b2916675e64c",
   "metadata": {},
   "outputs": [],
   "source": [
    "data_dir = Path(\"../data\")"
   ]
  },
  {
   "cell_type": "code",
   "execution_count": 4,
   "id": "1f16078d-6e2d-41a1-bcdd-4e99e43151b1",
   "metadata": {},
   "outputs": [],
   "source": [
    "transactions_df = pd.read_parquet(data_dir / \"transactions.parquet\").drop_duplicates()"
   ]
  },
  {
   "cell_type": "code",
   "execution_count": 5,
   "id": "e30b3939-0d8b-4f2b-a138-008783b25206",
   "metadata": {},
   "outputs": [],
   "source": [
    "# Размечаем транзакции:\n",
    "# target=1 снятие наличных\n",
    "# target=0 транзакции через терминал\n",
    "target_df = pd.read_parquet(data_dir / \"target.parquet\").drop_duplicates()\n",
    "target_df[\"target\"] = 1\n",
    "transactions_df = pd.merge(transactions_df, target_df, how=\"left\", on = [\"h3_09\", \"customer_id\"])\n",
    "transactions_df[\"target\"] = transactions_df[\"target\"].fillna(0).astype(int)"
   ]
  },
  {
   "cell_type": "code",
   "execution_count": 6,
   "id": "f1b34373-91d2-4f58-8953-b65d03f15047",
   "metadata": {},
   "outputs": [
    {
     "data": {
      "text/html": [
       "<div>\n",
       "<style scoped>\n",
       "    .dataframe tbody tr th:only-of-type {\n",
       "        vertical-align: middle;\n",
       "    }\n",
       "\n",
       "    .dataframe tbody tr th {\n",
       "        vertical-align: top;\n",
       "    }\n",
       "\n",
       "    .dataframe thead th {\n",
       "        text-align: right;\n",
       "    }\n",
       "</style>\n",
       "<table border=\"1\" class=\"dataframe\">\n",
       "  <thead>\n",
       "    <tr style=\"text-align: right;\">\n",
       "      <th></th>\n",
       "      <th>target</th>\n",
       "      <th>count</th>\n",
       "    </tr>\n",
       "  </thead>\n",
       "  <tbody>\n",
       "    <tr>\n",
       "      <th>0</th>\n",
       "      <td>0</td>\n",
       "      <td>3842086</td>\n",
       "    </tr>\n",
       "    <tr>\n",
       "      <th>1</th>\n",
       "      <td>1</td>\n",
       "      <td>308509</td>\n",
       "    </tr>\n",
       "  </tbody>\n",
       "</table>\n",
       "</div>"
      ],
      "text/plain": [
       "   target    count\n",
       "0       0  3842086\n",
       "1       1   308509"
      ]
     },
     "execution_count": 6,
     "metadata": {},
     "output_type": "execute_result"
    }
   ],
   "source": [
    "transactions_df[\"target\"].value_counts().reset_index()"
   ]
  },
  {
   "cell_type": "code",
   "execution_count": 7,
   "id": "9b02df31-7cc0-47f2-aab5-7d6d5b216a8e",
   "metadata": {},
   "outputs": [],
   "source": [
    "# Определяем локации банкоматов и терминалов\n",
    "used_locations = transactions_df[[\"h3_09\"]].drop_duplicates()\n",
    "used_locations[['lat', 'lon']] = used_locations['h3_09'].apply(lambda x: pd.Series(h3.h3_to_geo(x)))\n",
    "transactions_df = pd.merge(transactions_df, used_locations, on = [\"h3_09\"])"
   ]
  },
  {
   "cell_type": "code",
   "execution_count": 8,
   "id": "b87be75a-cfc6-42f4-8c99-97f6cdfcbada",
   "metadata": {},
   "outputs": [
    {
     "data": {
      "text/html": [
       "<div>\n",
       "<style scoped>\n",
       "    .dataframe tbody tr th:only-of-type {\n",
       "        vertical-align: middle;\n",
       "    }\n",
       "\n",
       "    .dataframe tbody tr th {\n",
       "        vertical-align: top;\n",
       "    }\n",
       "\n",
       "    .dataframe thead th {\n",
       "        text-align: right;\n",
       "    }\n",
       "</style>\n",
       "<table border=\"1\" class=\"dataframe\">\n",
       "  <thead>\n",
       "    <tr style=\"text-align: right;\">\n",
       "      <th></th>\n",
       "      <th>h3_09</th>\n",
       "      <th>customer_id</th>\n",
       "      <th>datetime_id</th>\n",
       "      <th>count</th>\n",
       "      <th>sum</th>\n",
       "      <th>avg</th>\n",
       "      <th>min</th>\n",
       "      <th>max</th>\n",
       "      <th>std</th>\n",
       "      <th>count_distinct</th>\n",
       "      <th>mcc_code</th>\n",
       "      <th>target</th>\n",
       "      <th>lat</th>\n",
       "      <th>lon</th>\n",
       "    </tr>\n",
       "  </thead>\n",
       "  <tbody>\n",
       "    <tr>\n",
       "      <th>0</th>\n",
       "      <td>8911aa4c62fffff</td>\n",
       "      <td>1</td>\n",
       "      <td>3</td>\n",
       "      <td>1</td>\n",
       "      <td>3346.65</td>\n",
       "      <td>3346.650</td>\n",
       "      <td>3346.65</td>\n",
       "      <td>3346.65</td>\n",
       "      <td>NaN</td>\n",
       "      <td>1</td>\n",
       "      <td>13</td>\n",
       "      <td>0</td>\n",
       "      <td>55.565522</td>\n",
       "      <td>37.445024</td>\n",
       "    </tr>\n",
       "    <tr>\n",
       "      <th>1</th>\n",
       "      <td>8911aa4c62fffff</td>\n",
       "      <td>6180</td>\n",
       "      <td>3</td>\n",
       "      <td>2</td>\n",
       "      <td>22591.72</td>\n",
       "      <td>11295.860</td>\n",
       "      <td>9049.13</td>\n",
       "      <td>13542.59</td>\n",
       "      <td>3177.356037</td>\n",
       "      <td>2</td>\n",
       "      <td>13</td>\n",
       "      <td>0</td>\n",
       "      <td>55.565522</td>\n",
       "      <td>37.445024</td>\n",
       "    </tr>\n",
       "    <tr>\n",
       "      <th>2</th>\n",
       "      <td>8911aa4c62fffff</td>\n",
       "      <td>9033</td>\n",
       "      <td>3</td>\n",
       "      <td>2</td>\n",
       "      <td>2480.34</td>\n",
       "      <td>1240.170</td>\n",
       "      <td>1205.00</td>\n",
       "      <td>1275.34</td>\n",
       "      <td>49.737891</td>\n",
       "      <td>2</td>\n",
       "      <td>13</td>\n",
       "      <td>0</td>\n",
       "      <td>55.565522</td>\n",
       "      <td>37.445024</td>\n",
       "    </tr>\n",
       "    <tr>\n",
       "      <th>3</th>\n",
       "      <td>8911aa4c62fffff</td>\n",
       "      <td>9570</td>\n",
       "      <td>2</td>\n",
       "      <td>11</td>\n",
       "      <td>13706.88</td>\n",
       "      <td>1246.080</td>\n",
       "      <td>79.98</td>\n",
       "      <td>2780.56</td>\n",
       "      <td>799.681502</td>\n",
       "      <td>9</td>\n",
       "      <td>13</td>\n",
       "      <td>0</td>\n",
       "      <td>55.565522</td>\n",
       "      <td>37.445024</td>\n",
       "    </tr>\n",
       "    <tr>\n",
       "      <th>4</th>\n",
       "      <td>8911aa4c62fffff</td>\n",
       "      <td>14235</td>\n",
       "      <td>3</td>\n",
       "      <td>5</td>\n",
       "      <td>3211.89</td>\n",
       "      <td>642.378</td>\n",
       "      <td>129.80</td>\n",
       "      <td>1395.24</td>\n",
       "      <td>512.713217</td>\n",
       "      <td>4</td>\n",
       "      <td>13</td>\n",
       "      <td>0</td>\n",
       "      <td>55.565522</td>\n",
       "      <td>37.445024</td>\n",
       "    </tr>\n",
       "    <tr>\n",
       "      <th>...</th>\n",
       "      <td>...</td>\n",
       "      <td>...</td>\n",
       "      <td>...</td>\n",
       "      <td>...</td>\n",
       "      <td>...</td>\n",
       "      <td>...</td>\n",
       "      <td>...</td>\n",
       "      <td>...</td>\n",
       "      <td>...</td>\n",
       "      <td>...</td>\n",
       "      <td>...</td>\n",
       "      <td>...</td>\n",
       "      <td>...</td>\n",
       "      <td>...</td>\n",
       "    </tr>\n",
       "    <tr>\n",
       "      <th>4150590</th>\n",
       "      <td>8911aa4ed8bffff</td>\n",
       "      <td>3478</td>\n",
       "      <td>2</td>\n",
       "      <td>1</td>\n",
       "      <td>4445.00</td>\n",
       "      <td>4445.000</td>\n",
       "      <td>4445.00</td>\n",
       "      <td>4445.00</td>\n",
       "      <td>NaN</td>\n",
       "      <td>1</td>\n",
       "      <td>8</td>\n",
       "      <td>0</td>\n",
       "      <td>55.657850</td>\n",
       "      <td>37.419223</td>\n",
       "    </tr>\n",
       "    <tr>\n",
       "      <th>4150591</th>\n",
       "      <td>8911aa0f02fffff</td>\n",
       "      <td>8741</td>\n",
       "      <td>2</td>\n",
       "      <td>1</td>\n",
       "      <td>135.00</td>\n",
       "      <td>135.000</td>\n",
       "      <td>135.00</td>\n",
       "      <td>135.00</td>\n",
       "      <td>NaN</td>\n",
       "      <td>1</td>\n",
       "      <td>6</td>\n",
       "      <td>0</td>\n",
       "      <td>55.956592</td>\n",
       "      <td>37.340281</td>\n",
       "    </tr>\n",
       "    <tr>\n",
       "      <th>4150592</th>\n",
       "      <td>8911aa72ad3ffff</td>\n",
       "      <td>91149</td>\n",
       "      <td>2</td>\n",
       "      <td>1</td>\n",
       "      <td>931.00</td>\n",
       "      <td>931.000</td>\n",
       "      <td>931.00</td>\n",
       "      <td>931.00</td>\n",
       "      <td>NaN</td>\n",
       "      <td>1</td>\n",
       "      <td>1</td>\n",
       "      <td>0</td>\n",
       "      <td>55.879372</td>\n",
       "      <td>37.494532</td>\n",
       "    </tr>\n",
       "    <tr>\n",
       "      <th>4150593</th>\n",
       "      <td>8911aa78a73ffff</td>\n",
       "      <td>1354</td>\n",
       "      <td>1</td>\n",
       "      <td>1</td>\n",
       "      <td>1880.00</td>\n",
       "      <td>1880.000</td>\n",
       "      <td>1880.00</td>\n",
       "      <td>1880.00</td>\n",
       "      <td>NaN</td>\n",
       "      <td>1</td>\n",
       "      <td>5</td>\n",
       "      <td>0</td>\n",
       "      <td>55.715961</td>\n",
       "      <td>37.703801</td>\n",
       "    </tr>\n",
       "    <tr>\n",
       "      <th>4150594</th>\n",
       "      <td>8911aa4ea17ffff</td>\n",
       "      <td>28205</td>\n",
       "      <td>3</td>\n",
       "      <td>1</td>\n",
       "      <td>700.00</td>\n",
       "      <td>700.000</td>\n",
       "      <td>700.00</td>\n",
       "      <td>700.00</td>\n",
       "      <td>NaN</td>\n",
       "      <td>1</td>\n",
       "      <td>6</td>\n",
       "      <td>0</td>\n",
       "      <td>55.619989</td>\n",
       "      <td>37.455808</td>\n",
       "    </tr>\n",
       "  </tbody>\n",
       "</table>\n",
       "<p>4150595 rows × 14 columns</p>\n",
       "</div>"
      ],
      "text/plain": [
       "                   h3_09  customer_id  datetime_id  count       sum  \\\n",
       "0        8911aa4c62fffff            1            3      1   3346.65   \n",
       "1        8911aa4c62fffff         6180            3      2  22591.72   \n",
       "2        8911aa4c62fffff         9033            3      2   2480.34   \n",
       "3        8911aa4c62fffff         9570            2     11  13706.88   \n",
       "4        8911aa4c62fffff        14235            3      5   3211.89   \n",
       "...                  ...          ...          ...    ...       ...   \n",
       "4150590  8911aa4ed8bffff         3478            2      1   4445.00   \n",
       "4150591  8911aa0f02fffff         8741            2      1    135.00   \n",
       "4150592  8911aa72ad3ffff        91149            2      1    931.00   \n",
       "4150593  8911aa78a73ffff         1354            1      1   1880.00   \n",
       "4150594  8911aa4ea17ffff        28205            3      1    700.00   \n",
       "\n",
       "               avg      min       max          std  count_distinct  mcc_code  \\\n",
       "0         3346.650  3346.65   3346.65          NaN               1        13   \n",
       "1        11295.860  9049.13  13542.59  3177.356037               2        13   \n",
       "2         1240.170  1205.00   1275.34    49.737891               2        13   \n",
       "3         1246.080    79.98   2780.56   799.681502               9        13   \n",
       "4          642.378   129.80   1395.24   512.713217               4        13   \n",
       "...            ...      ...       ...          ...             ...       ...   \n",
       "4150590   4445.000  4445.00   4445.00          NaN               1         8   \n",
       "4150591    135.000   135.00    135.00          NaN               1         6   \n",
       "4150592    931.000   931.00    931.00          NaN               1         1   \n",
       "4150593   1880.000  1880.00   1880.00          NaN               1         5   \n",
       "4150594    700.000   700.00    700.00          NaN               1         6   \n",
       "\n",
       "         target        lat        lon  \n",
       "0             0  55.565522  37.445024  \n",
       "1             0  55.565522  37.445024  \n",
       "2             0  55.565522  37.445024  \n",
       "3             0  55.565522  37.445024  \n",
       "4             0  55.565522  37.445024  \n",
       "...         ...        ...        ...  \n",
       "4150590       0  55.657850  37.419223  \n",
       "4150591       0  55.956592  37.340281  \n",
       "4150592       0  55.879372  37.494532  \n",
       "4150593       0  55.715961  37.703801  \n",
       "4150594       0  55.619989  37.455808  \n",
       "\n",
       "[4150595 rows x 14 columns]"
      ]
     },
     "execution_count": 8,
     "metadata": {},
     "output_type": "execute_result"
    }
   ],
   "source": [
    "transactions_df"
   ]
  },
  {
   "cell_type": "markdown",
   "id": "dc6c21b8-ad4c-42aa-bf65-314fd279499a",
   "metadata": {},
   "source": [
    "## Посмотрим на выбранного клиента"
   ]
  },
  {
   "cell_type": "code",
   "execution_count": 9,
   "id": "03dd1fd4-19f6-4bfb-95a1-e30c5776d0ae",
   "metadata": {},
   "outputs": [
    {
     "data": {
      "text/html": [
       "<div>\n",
       "<style scoped>\n",
       "    .dataframe tbody tr th:only-of-type {\n",
       "        vertical-align: middle;\n",
       "    }\n",
       "\n",
       "    .dataframe tbody tr th {\n",
       "        vertical-align: top;\n",
       "    }\n",
       "\n",
       "    .dataframe thead th {\n",
       "        text-align: right;\n",
       "    }\n",
       "</style>\n",
       "<table border=\"1\" class=\"dataframe\">\n",
       "  <thead>\n",
       "    <tr style=\"text-align: right;\">\n",
       "      <th></th>\n",
       "      <th>h3_09</th>\n",
       "      <th>customer_id</th>\n",
       "      <th>datetime_id</th>\n",
       "      <th>count</th>\n",
       "      <th>sum</th>\n",
       "      <th>avg</th>\n",
       "      <th>min</th>\n",
       "      <th>max</th>\n",
       "      <th>std</th>\n",
       "      <th>count_distinct</th>\n",
       "      <th>mcc_code</th>\n",
       "      <th>target</th>\n",
       "      <th>lat</th>\n",
       "      <th>lon</th>\n",
       "    </tr>\n",
       "  </thead>\n",
       "  <tbody>\n",
       "    <tr>\n",
       "      <th>2046993</th>\n",
       "      <td>8911aa6ac3bffff</td>\n",
       "      <td>23172</td>\n",
       "      <td>1</td>\n",
       "      <td>1</td>\n",
       "      <td>3197.00</td>\n",
       "      <td>3197.000000</td>\n",
       "      <td>3197.00</td>\n",
       "      <td>3197.00</td>\n",
       "      <td>NaN</td>\n",
       "      <td>1</td>\n",
       "      <td>10</td>\n",
       "      <td>1</td>\n",
       "      <td>55.753226</td>\n",
       "      <td>37.820995</td>\n",
       "    </tr>\n",
       "    <tr>\n",
       "      <th>2047550</th>\n",
       "      <td>8911aa6ac3bffff</td>\n",
       "      <td>23172</td>\n",
       "      <td>3</td>\n",
       "      <td>1</td>\n",
       "      <td>750.78</td>\n",
       "      <td>750.780000</td>\n",
       "      <td>750.78</td>\n",
       "      <td>750.78</td>\n",
       "      <td>NaN</td>\n",
       "      <td>1</td>\n",
       "      <td>5</td>\n",
       "      <td>1</td>\n",
       "      <td>55.753226</td>\n",
       "      <td>37.820995</td>\n",
       "    </tr>\n",
       "    <tr>\n",
       "      <th>2047744</th>\n",
       "      <td>8911aa6ac3bffff</td>\n",
       "      <td>23172</td>\n",
       "      <td>3</td>\n",
       "      <td>1</td>\n",
       "      <td>600.00</td>\n",
       "      <td>600.000000</td>\n",
       "      <td>600.00</td>\n",
       "      <td>600.00</td>\n",
       "      <td>NaN</td>\n",
       "      <td>1</td>\n",
       "      <td>13</td>\n",
       "      <td>1</td>\n",
       "      <td>55.753226</td>\n",
       "      <td>37.820995</td>\n",
       "    </tr>\n",
       "    <tr>\n",
       "      <th>2047847</th>\n",
       "      <td>8911aa6ac3bffff</td>\n",
       "      <td>23172</td>\n",
       "      <td>1</td>\n",
       "      <td>1</td>\n",
       "      <td>49.49</td>\n",
       "      <td>49.490000</td>\n",
       "      <td>49.49</td>\n",
       "      <td>49.49</td>\n",
       "      <td>NaN</td>\n",
       "      <td>1</td>\n",
       "      <td>13</td>\n",
       "      <td>1</td>\n",
       "      <td>55.753226</td>\n",
       "      <td>37.820995</td>\n",
       "    </tr>\n",
       "    <tr>\n",
       "      <th>2047899</th>\n",
       "      <td>8911aa6ac3bffff</td>\n",
       "      <td>23172</td>\n",
       "      <td>1</td>\n",
       "      <td>1</td>\n",
       "      <td>260.00</td>\n",
       "      <td>260.000000</td>\n",
       "      <td>260.00</td>\n",
       "      <td>260.00</td>\n",
       "      <td>NaN</td>\n",
       "      <td>1</td>\n",
       "      <td>8</td>\n",
       "      <td>1</td>\n",
       "      <td>55.753226</td>\n",
       "      <td>37.820995</td>\n",
       "    </tr>\n",
       "    <tr>\n",
       "      <th>2048473</th>\n",
       "      <td>8911aa6ac3bffff</td>\n",
       "      <td>23172</td>\n",
       "      <td>2</td>\n",
       "      <td>7</td>\n",
       "      <td>4275.38</td>\n",
       "      <td>610.768571</td>\n",
       "      <td>36.99</td>\n",
       "      <td>1969.74</td>\n",
       "      <td>783.187378</td>\n",
       "      <td>4</td>\n",
       "      <td>13</td>\n",
       "      <td>1</td>\n",
       "      <td>55.753226</td>\n",
       "      <td>37.820995</td>\n",
       "    </tr>\n",
       "    <tr>\n",
       "      <th>2048919</th>\n",
       "      <td>8911aa6ac3bffff</td>\n",
       "      <td>23172</td>\n",
       "      <td>2</td>\n",
       "      <td>1</td>\n",
       "      <td>520.00</td>\n",
       "      <td>520.000000</td>\n",
       "      <td>520.00</td>\n",
       "      <td>520.00</td>\n",
       "      <td>NaN</td>\n",
       "      <td>1</td>\n",
       "      <td>8</td>\n",
       "      <td>1</td>\n",
       "      <td>55.753226</td>\n",
       "      <td>37.820995</td>\n",
       "    </tr>\n",
       "    <tr>\n",
       "      <th>2049287</th>\n",
       "      <td>8911aa6ac3bffff</td>\n",
       "      <td>23172</td>\n",
       "      <td>1</td>\n",
       "      <td>3</td>\n",
       "      <td>1710.00</td>\n",
       "      <td>570.000000</td>\n",
       "      <td>180.00</td>\n",
       "      <td>1090.00</td>\n",
       "      <td>468.721666</td>\n",
       "      <td>2</td>\n",
       "      <td>8</td>\n",
       "      <td>1</td>\n",
       "      <td>55.753226</td>\n",
       "      <td>37.820995</td>\n",
       "    </tr>\n",
       "    <tr>\n",
       "      <th>2050069</th>\n",
       "      <td>8911aa6ac3bffff</td>\n",
       "      <td>23172</td>\n",
       "      <td>3</td>\n",
       "      <td>1</td>\n",
       "      <td>708.76</td>\n",
       "      <td>708.760000</td>\n",
       "      <td>708.76</td>\n",
       "      <td>708.76</td>\n",
       "      <td>NaN</td>\n",
       "      <td>1</td>\n",
       "      <td>8</td>\n",
       "      <td>1</td>\n",
       "      <td>55.753226</td>\n",
       "      <td>37.820995</td>\n",
       "    </tr>\n",
       "    <tr>\n",
       "      <th>2050434</th>\n",
       "      <td>8911aa6ac3bffff</td>\n",
       "      <td>23172</td>\n",
       "      <td>2</td>\n",
       "      <td>1</td>\n",
       "      <td>907.00</td>\n",
       "      <td>907.000000</td>\n",
       "      <td>907.00</td>\n",
       "      <td>907.00</td>\n",
       "      <td>NaN</td>\n",
       "      <td>1</td>\n",
       "      <td>8</td>\n",
       "      <td>1</td>\n",
       "      <td>55.753226</td>\n",
       "      <td>37.820995</td>\n",
       "    </tr>\n",
       "    <tr>\n",
       "      <th>2053146</th>\n",
       "      <td>8911aa6ac3bffff</td>\n",
       "      <td>23172</td>\n",
       "      <td>3</td>\n",
       "      <td>2</td>\n",
       "      <td>1740.53</td>\n",
       "      <td>870.265000</td>\n",
       "      <td>17.99</td>\n",
       "      <td>1722.54</td>\n",
       "      <td>1205.298864</td>\n",
       "      <td>2</td>\n",
       "      <td>13</td>\n",
       "      <td>1</td>\n",
       "      <td>55.753226</td>\n",
       "      <td>37.820995</td>\n",
       "    </tr>\n",
       "    <tr>\n",
       "      <th>2053382</th>\n",
       "      <td>8911aa6ac3bffff</td>\n",
       "      <td>23172</td>\n",
       "      <td>2</td>\n",
       "      <td>1</td>\n",
       "      <td>750.00</td>\n",
       "      <td>750.000000</td>\n",
       "      <td>750.00</td>\n",
       "      <td>750.00</td>\n",
       "      <td>NaN</td>\n",
       "      <td>1</td>\n",
       "      <td>13</td>\n",
       "      <td>1</td>\n",
       "      <td>55.753226</td>\n",
       "      <td>37.820995</td>\n",
       "    </tr>\n",
       "    <tr>\n",
       "      <th>2380025</th>\n",
       "      <td>8911aa78c93ffff</td>\n",
       "      <td>23172</td>\n",
       "      <td>2</td>\n",
       "      <td>1</td>\n",
       "      <td>390.00</td>\n",
       "      <td>390.000000</td>\n",
       "      <td>390.00</td>\n",
       "      <td>390.00</td>\n",
       "      <td>NaN</td>\n",
       "      <td>1</td>\n",
       "      <td>8</td>\n",
       "      <td>1</td>\n",
       "      <td>55.745088</td>\n",
       "      <td>37.629017</td>\n",
       "    </tr>\n",
       "  </tbody>\n",
       "</table>\n",
       "</div>"
      ],
      "text/plain": [
       "                   h3_09  customer_id  datetime_id  count      sum  \\\n",
       "2046993  8911aa6ac3bffff        23172            1      1  3197.00   \n",
       "2047550  8911aa6ac3bffff        23172            3      1   750.78   \n",
       "2047744  8911aa6ac3bffff        23172            3      1   600.00   \n",
       "2047847  8911aa6ac3bffff        23172            1      1    49.49   \n",
       "2047899  8911aa6ac3bffff        23172            1      1   260.00   \n",
       "2048473  8911aa6ac3bffff        23172            2      7  4275.38   \n",
       "2048919  8911aa6ac3bffff        23172            2      1   520.00   \n",
       "2049287  8911aa6ac3bffff        23172            1      3  1710.00   \n",
       "2050069  8911aa6ac3bffff        23172            3      1   708.76   \n",
       "2050434  8911aa6ac3bffff        23172            2      1   907.00   \n",
       "2053146  8911aa6ac3bffff        23172            3      2  1740.53   \n",
       "2053382  8911aa6ac3bffff        23172            2      1   750.00   \n",
       "2380025  8911aa78c93ffff        23172            2      1   390.00   \n",
       "\n",
       "                 avg      min      max          std  count_distinct  mcc_code  \\\n",
       "2046993  3197.000000  3197.00  3197.00          NaN               1        10   \n",
       "2047550   750.780000   750.78   750.78          NaN               1         5   \n",
       "2047744   600.000000   600.00   600.00          NaN               1        13   \n",
       "2047847    49.490000    49.49    49.49          NaN               1        13   \n",
       "2047899   260.000000   260.00   260.00          NaN               1         8   \n",
       "2048473   610.768571    36.99  1969.74   783.187378               4        13   \n",
       "2048919   520.000000   520.00   520.00          NaN               1         8   \n",
       "2049287   570.000000   180.00  1090.00   468.721666               2         8   \n",
       "2050069   708.760000   708.76   708.76          NaN               1         8   \n",
       "2050434   907.000000   907.00   907.00          NaN               1         8   \n",
       "2053146   870.265000    17.99  1722.54  1205.298864               2        13   \n",
       "2053382   750.000000   750.00   750.00          NaN               1        13   \n",
       "2380025   390.000000   390.00   390.00          NaN               1         8   \n",
       "\n",
       "         target        lat        lon  \n",
       "2046993       1  55.753226  37.820995  \n",
       "2047550       1  55.753226  37.820995  \n",
       "2047744       1  55.753226  37.820995  \n",
       "2047847       1  55.753226  37.820995  \n",
       "2047899       1  55.753226  37.820995  \n",
       "2048473       1  55.753226  37.820995  \n",
       "2048919       1  55.753226  37.820995  \n",
       "2049287       1  55.753226  37.820995  \n",
       "2050069       1  55.753226  37.820995  \n",
       "2050434       1  55.753226  37.820995  \n",
       "2053146       1  55.753226  37.820995  \n",
       "2053382       1  55.753226  37.820995  \n",
       "2380025       1  55.745088  37.629017  "
      ]
     },
     "execution_count": 9,
     "metadata": {},
     "output_type": "execute_result"
    }
   ],
   "source": [
    "customer_id = 23172\n",
    "transactions_df[(transactions_df[\"customer_id\"]==customer_id) & (transactions_df[\"target\"]==1)]\n",
    "# Чел в разные дни снимает в одном и том же банкомате (только однажды решил снять в 8911aa78c93ffff)"
   ]
  },
  {
   "cell_type": "code",
   "execution_count": 10,
   "id": "9597734f-dc74-4fb4-8664-6a54c07a9ae7",
   "metadata": {},
   "outputs": [
    {
     "data": {
      "text/html": [
       "<div>\n",
       "<style scoped>\n",
       "    .dataframe tbody tr th:only-of-type {\n",
       "        vertical-align: middle;\n",
       "    }\n",
       "\n",
       "    .dataframe tbody tr th {\n",
       "        vertical-align: top;\n",
       "    }\n",
       "\n",
       "    .dataframe thead th {\n",
       "        text-align: right;\n",
       "    }\n",
       "</style>\n",
       "<table border=\"1\" class=\"dataframe\">\n",
       "  <thead>\n",
       "    <tr style=\"text-align: right;\">\n",
       "      <th></th>\n",
       "      <th>h3_09</th>\n",
       "      <th>customer_id</th>\n",
       "      <th>datetime_id</th>\n",
       "      <th>count</th>\n",
       "      <th>sum</th>\n",
       "      <th>avg</th>\n",
       "      <th>min</th>\n",
       "      <th>max</th>\n",
       "      <th>std</th>\n",
       "      <th>count_distinct</th>\n",
       "      <th>mcc_code</th>\n",
       "      <th>target</th>\n",
       "      <th>lat</th>\n",
       "      <th>lon</th>\n",
       "    </tr>\n",
       "  </thead>\n",
       "  <tbody>\n",
       "    <tr>\n",
       "      <th>139637</th>\n",
       "      <td>8911aa7a967ffff</td>\n",
       "      <td>23172</td>\n",
       "      <td>3</td>\n",
       "      <td>15</td>\n",
       "      <td>840.0</td>\n",
       "      <td>56.0</td>\n",
       "      <td>56.0</td>\n",
       "      <td>56.0</td>\n",
       "      <td>0.000000</td>\n",
       "      <td>13</td>\n",
       "      <td>9</td>\n",
       "      <td>0</td>\n",
       "      <td>55.780645</td>\n",
       "      <td>37.633646</td>\n",
       "    </tr>\n",
       "    <tr>\n",
       "      <th>153078</th>\n",
       "      <td>8911aa7a967ffff</td>\n",
       "      <td>23172</td>\n",
       "      <td>1</td>\n",
       "      <td>13</td>\n",
       "      <td>728.0</td>\n",
       "      <td>56.0</td>\n",
       "      <td>56.0</td>\n",
       "      <td>56.0</td>\n",
       "      <td>0.000000</td>\n",
       "      <td>12</td>\n",
       "      <td>9</td>\n",
       "      <td>0</td>\n",
       "      <td>55.780645</td>\n",
       "      <td>37.633646</td>\n",
       "    </tr>\n",
       "    <tr>\n",
       "      <th>159253</th>\n",
       "      <td>8911aa7a967ffff</td>\n",
       "      <td>23172</td>\n",
       "      <td>2</td>\n",
       "      <td>28</td>\n",
       "      <td>1568.0</td>\n",
       "      <td>56.0</td>\n",
       "      <td>56.0</td>\n",
       "      <td>56.0</td>\n",
       "      <td>0.000000</td>\n",
       "      <td>22</td>\n",
       "      <td>9</td>\n",
       "      <td>0</td>\n",
       "      <td>55.780645</td>\n",
       "      <td>37.633646</td>\n",
       "    </tr>\n",
       "    <tr>\n",
       "      <th>490987</th>\n",
       "      <td>8911aa7abd3ffff</td>\n",
       "      <td>23172</td>\n",
       "      <td>3</td>\n",
       "      <td>1</td>\n",
       "      <td>800.0</td>\n",
       "      <td>800.0</td>\n",
       "      <td>800.0</td>\n",
       "      <td>800.0</td>\n",
       "      <td>NaN</td>\n",
       "      <td>1</td>\n",
       "      <td>13</td>\n",
       "      <td>0</td>\n",
       "      <td>55.756868</td>\n",
       "      <td>37.615785</td>\n",
       "    </tr>\n",
       "    <tr>\n",
       "      <th>553210</th>\n",
       "      <td>8911aa7abd3ffff</td>\n",
       "      <td>23172</td>\n",
       "      <td>3</td>\n",
       "      <td>1</td>\n",
       "      <td>3237.0</td>\n",
       "      <td>3237.0</td>\n",
       "      <td>3237.0</td>\n",
       "      <td>3237.0</td>\n",
       "      <td>NaN</td>\n",
       "      <td>1</td>\n",
       "      <td>8</td>\n",
       "      <td>0</td>\n",
       "      <td>55.756868</td>\n",
       "      <td>37.615785</td>\n",
       "    </tr>\n",
       "    <tr>\n",
       "      <th>...</th>\n",
       "      <td>...</td>\n",
       "      <td>...</td>\n",
       "      <td>...</td>\n",
       "      <td>...</td>\n",
       "      <td>...</td>\n",
       "      <td>...</td>\n",
       "      <td>...</td>\n",
       "      <td>...</td>\n",
       "      <td>...</td>\n",
       "      <td>...</td>\n",
       "      <td>...</td>\n",
       "      <td>...</td>\n",
       "      <td>...</td>\n",
       "      <td>...</td>\n",
       "    </tr>\n",
       "    <tr>\n",
       "      <th>3591996</th>\n",
       "      <td>891181b68c3ffff</td>\n",
       "      <td>23172</td>\n",
       "      <td>3</td>\n",
       "      <td>1</td>\n",
       "      <td>650.0</td>\n",
       "      <td>650.0</td>\n",
       "      <td>650.0</td>\n",
       "      <td>650.0</td>\n",
       "      <td>NaN</td>\n",
       "      <td>1</td>\n",
       "      <td>11</td>\n",
       "      <td>0</td>\n",
       "      <td>55.617873</td>\n",
       "      <td>37.683738</td>\n",
       "    </tr>\n",
       "    <tr>\n",
       "      <th>3681687</th>\n",
       "      <td>8911aa7856fffff</td>\n",
       "      <td>23172</td>\n",
       "      <td>2</td>\n",
       "      <td>2</td>\n",
       "      <td>1170.0</td>\n",
       "      <td>585.0</td>\n",
       "      <td>550.0</td>\n",
       "      <td>620.0</td>\n",
       "      <td>49.497475</td>\n",
       "      <td>1</td>\n",
       "      <td>8</td>\n",
       "      <td>0</td>\n",
       "      <td>55.721607</td>\n",
       "      <td>37.606030</td>\n",
       "    </tr>\n",
       "    <tr>\n",
       "      <th>3867136</th>\n",
       "      <td>8911aa72b5bffff</td>\n",
       "      <td>23172</td>\n",
       "      <td>3</td>\n",
       "      <td>1</td>\n",
       "      <td>50.0</td>\n",
       "      <td>50.0</td>\n",
       "      <td>50.0</td>\n",
       "      <td>50.0</td>\n",
       "      <td>NaN</td>\n",
       "      <td>1</td>\n",
       "      <td>8</td>\n",
       "      <td>0</td>\n",
       "      <td>55.891115</td>\n",
       "      <td>37.530820</td>\n",
       "    </tr>\n",
       "    <tr>\n",
       "      <th>3867214</th>\n",
       "      <td>8911aa72b5bffff</td>\n",
       "      <td>23172</td>\n",
       "      <td>2</td>\n",
       "      <td>1</td>\n",
       "      <td>500.0</td>\n",
       "      <td>500.0</td>\n",
       "      <td>500.0</td>\n",
       "      <td>500.0</td>\n",
       "      <td>NaN</td>\n",
       "      <td>1</td>\n",
       "      <td>8</td>\n",
       "      <td>0</td>\n",
       "      <td>55.891115</td>\n",
       "      <td>37.530820</td>\n",
       "    </tr>\n",
       "    <tr>\n",
       "      <th>3893208</th>\n",
       "      <td>8911aa6b583ffff</td>\n",
       "      <td>23172</td>\n",
       "      <td>2</td>\n",
       "      <td>1</td>\n",
       "      <td>63.8</td>\n",
       "      <td>63.8</td>\n",
       "      <td>63.8</td>\n",
       "      <td>63.8</td>\n",
       "      <td>NaN</td>\n",
       "      <td>1</td>\n",
       "      <td>13</td>\n",
       "      <td>0</td>\n",
       "      <td>55.680257</td>\n",
       "      <td>37.748539</td>\n",
       "    </tr>\n",
       "  </tbody>\n",
       "</table>\n",
       "<p>61 rows × 14 columns</p>\n",
       "</div>"
      ],
      "text/plain": [
       "                   h3_09  customer_id  datetime_id  count     sum     avg  \\\n",
       "139637   8911aa7a967ffff        23172            3     15   840.0    56.0   \n",
       "153078   8911aa7a967ffff        23172            1     13   728.0    56.0   \n",
       "159253   8911aa7a967ffff        23172            2     28  1568.0    56.0   \n",
       "490987   8911aa7abd3ffff        23172            3      1   800.0   800.0   \n",
       "553210   8911aa7abd3ffff        23172            3      1  3237.0  3237.0   \n",
       "...                  ...          ...          ...    ...     ...     ...   \n",
       "3591996  891181b68c3ffff        23172            3      1   650.0   650.0   \n",
       "3681687  8911aa7856fffff        23172            2      2  1170.0   585.0   \n",
       "3867136  8911aa72b5bffff        23172            3      1    50.0    50.0   \n",
       "3867214  8911aa72b5bffff        23172            2      1   500.0   500.0   \n",
       "3893208  8911aa6b583ffff        23172            2      1    63.8    63.8   \n",
       "\n",
       "            min     max        std  count_distinct  mcc_code  target  \\\n",
       "139637     56.0    56.0   0.000000              13         9       0   \n",
       "153078     56.0    56.0   0.000000              12         9       0   \n",
       "159253     56.0    56.0   0.000000              22         9       0   \n",
       "490987    800.0   800.0        NaN               1        13       0   \n",
       "553210   3237.0  3237.0        NaN               1         8       0   \n",
       "...         ...     ...        ...             ...       ...     ...   \n",
       "3591996   650.0   650.0        NaN               1        11       0   \n",
       "3681687   550.0   620.0  49.497475               1         8       0   \n",
       "3867136    50.0    50.0        NaN               1         8       0   \n",
       "3867214   500.0   500.0        NaN               1         8       0   \n",
       "3893208    63.8    63.8        NaN               1        13       0   \n",
       "\n",
       "               lat        lon  \n",
       "139637   55.780645  37.633646  \n",
       "153078   55.780645  37.633646  \n",
       "159253   55.780645  37.633646  \n",
       "490987   55.756868  37.615785  \n",
       "553210   55.756868  37.615785  \n",
       "...            ...        ...  \n",
       "3591996  55.617873  37.683738  \n",
       "3681687  55.721607  37.606030  \n",
       "3867136  55.891115  37.530820  \n",
       "3867214  55.891115  37.530820  \n",
       "3893208  55.680257  37.748539  \n",
       "\n",
       "[61 rows x 14 columns]"
      ]
     },
     "execution_count": 10,
     "metadata": {},
     "output_type": "execute_result"
    }
   ],
   "source": [
    "transactions_df[(transactions_df[\"customer_id\"]==customer_id) & (transactions_df[\"target\"]==0)]\n",
    "# Также у чела много транзакций в разных местах"
   ]
  },
  {
   "cell_type": "code",
   "execution_count": 22,
   "id": "6070a01d-7678-4bc3-b776-a9067f83d03d",
   "metadata": {},
   "outputs": [
    {
     "data": {
      "application/vnd.plotly.v1+json": {
       "config": {
        "plotlyServerURL": "https://plot.ly"
       },
       "data": [
        {
         "customdata": [
          [
           3,
           840
          ],
          [
           1,
           728
          ],
          [
           2,
           1568
          ],
          [
           3,
           800
          ],
          [
           3,
           3237
          ],
          [
           1,
           110
          ],
          [
           2,
           400
          ],
          [
           3,
           200
          ],
          [
           2,
           1003
          ],
          [
           3,
           2815.6
          ],
          [
           2,
           409
          ],
          [
           2,
           439
          ],
          [
           2,
           1600
          ],
          [
           3,
           2620
          ],
          [
           2,
           1630
          ],
          [
           2,
           1014.93
          ],
          [
           2,
           100
          ],
          [
           2,
           150
          ],
          [
           1,
           940
          ],
          [
           2,
           1999
          ],
          [
           1,
           186
          ],
          [
           3,
           999
          ],
          [
           2,
           9618.76
          ],
          [
           3,
           21171.67
          ],
          [
           2,
           150
          ],
          [
           2,
           23600
          ],
          [
           3,
           23200
          ],
          [
           3,
           2745
          ],
          [
           2,
           7070
          ],
          [
           3,
           4594
          ],
          [
           3,
           1865
          ],
          [
           3,
           169
          ],
          [
           1,
           3197
          ],
          [
           3,
           750.78
          ],
          [
           3,
           600
          ],
          [
           1,
           49.49
          ],
          [
           1,
           260
          ],
          [
           2,
           4275.38
          ],
          [
           2,
           520
          ],
          [
           1,
           1710
          ],
          [
           3,
           708.76
          ],
          [
           2,
           907
          ],
          [
           3,
           1740.53
          ],
          [
           2,
           750
          ],
          [
           2,
           1850
          ],
          [
           3,
           1032.66
          ],
          [
           1,
           95.98
          ],
          [
           2,
           593.77
          ],
          [
           2,
           399.97
          ],
          [
           1,
           287
          ],
          [
           2,
           1203
          ],
          [
           3,
           1293
          ],
          [
           2,
           390
          ],
          [
           1,
           368
          ],
          [
           2,
           624
          ],
          [
           1,
           71.8
          ],
          [
           2,
           4900
          ],
          [
           2,
           209.98
          ],
          [
           2,
           1620
          ],
          [
           3,
           470
          ],
          [
           3,
           610
          ],
          [
           3,
           233.87
          ],
          [
           3,
           4150
          ],
          [
           2,
           1878
          ],
          [
           1,
           4711.56
          ],
          [
           2,
           1646
          ],
          [
           3,
           3986
          ],
          [
           2,
           319
          ],
          [
           2,
           2000
          ],
          [
           3,
           650
          ],
          [
           2,
           1170
          ],
          [
           3,
           50
          ],
          [
           2,
           500
          ],
          [
           2,
           63.8
          ]
         ],
         "hovertemplate": "lat=%{lat}<br>lon=%{lon}<br>datetime_id=%{customdata[0]}<br>sum=%{customdata[1]}<br>target=%{marker.color}<extra></extra>",
         "lat": [
          55.78086399420479,
          55.780415696073185,
          55.780546545876,
          55.75678444075033,
          55.75718461790482,
          55.75614609774002,
          55.7567725817026,
          55.75697585471492,
          55.75623538720955,
          55.70060862040044,
          55.699485473935404,
          55.70063069085308,
          55.7121239661838,
          55.73980517497435,
          55.69883047741098,
          55.76189838079015,
          55.762004949055424,
          55.63735063256544,
          55.76093210246535,
          55.728164681570895,
          55.72776810585721,
          55.72820639274486,
          55.730712870619506,
          55.73046307178097,
          55.7674995602456,
          55.69556581156457,
          55.69591894913759,
          55.6961654220967,
          55.69503670300385,
          55.69547688930122,
          55.74997169294617,
          55.75046013902424,
          55.75311973534063,
          55.753493993500236,
          55.75213220801182,
          55.75240468118764,
          55.75328647198643,
          55.753479733565904,
          55.751956654912384,
          55.75233639644933,
          55.753554542178996,
          55.753468442163665,
          55.75276134670592,
          55.75275291184206,
          55.741470621256326,
          55.766178588213805,
          55.7657789155791,
          55.765700267665935,
          55.741816339409716,
          55.757269153523005,
          55.75723145565267,
          55.62154985638485,
          55.74504314791313,
          55.750977221950826,
          55.75014421583618,
          55.730563078540996,
          55.762146334844076,
          55.761496005374525,
          55.76179432942529,
          55.76677768529371,
          55.62146062728804,
          55.77115787963266,
          55.745705883247005,
          55.70804450281646,
          55.7523285999856,
          55.75292650844601,
          55.75236567395029,
          55.62723881311881,
          55.74650310346606,
          55.61841789782017,
          55.721157287773956,
          55.890234544170454,
          55.89138037650414,
          55.680051143247276
         ],
         "legendgroup": "",
         "lon": [
          37.63367674462523,
          37.6337301802747,
          37.63353972834723,
          37.615372805912024,
          37.615553540612545,
          37.61588631361124,
          37.615804608889746,
          37.6159856231128,
          37.61608637521488,
          37.921643677517956,
          37.92234018177013,
          37.92211415470955,
          37.57862906349261,
          37.62730701619833,
          37.91386396477973,
          37.57326498713267,
          37.572111340231054,
          37.58664976134853,
          37.60833289599631,
          37.73016721528954,
          37.73000060021621,
          37.729015800639,
          37.73312369238268,
          37.73302396861487,
          37.57909760566727,
          37.67404192366076,
          37.6735935461393,
          37.673907996151534,
          37.67314305565466,
          37.67299031886746,
          37.591333286919806,
          37.591319920431474,
          37.82118503430475,
          37.82214933623236,
          37.82103934061755,
          37.82090531231517,
          37.82077839295272,
          37.820315131097125,
          37.82189462167601,
          37.820275888853985,
          37.82113381298405,
          37.820905289115835,
          37.821160837336215,
          37.82082691297276,
          37.63565324178853,
          37.83155360682885,
          37.83063311313954,
          37.832158523549104,
          37.459021346639496,
          37.61085250055193,
          37.61043091439502,
          37.66591334177054,
          37.62875774660446,
          37.81827637426241,
          37.81802768265094,
          37.61863863765216,
          37.57850934796491,
          37.57823857620055,
          37.57832052691088,
          37.82108908738146,
          37.715894381796794,
          37.60565342980265,
          37.86176522975527,
          37.748860709879644,
          37.831086051006245,
          37.83167495454882,
          37.83158093843526,
          37.71130249046696,
          37.54321789203571,
          37.682956101966006,
          37.606014248648194,
          37.529977414061115,
          37.530446741481406,
          37.74871459886587
         ],
         "marker": {
          "color": [
           0,
           0,
           0,
           0,
           0,
           0,
           0,
           0,
           0,
           0,
           0,
           0,
           0,
           0,
           0,
           0,
           0,
           0,
           0,
           0,
           0,
           0,
           0,
           0,
           0,
           0,
           0,
           0,
           0,
           0,
           0,
           0,
           1,
           1,
           1,
           1,
           1,
           1,
           1,
           1,
           1,
           1,
           1,
           1,
           0,
           0,
           0,
           0,
           0,
           0,
           0,
           0,
           1,
           0,
           0,
           0,
           0,
           0,
           0,
           0,
           0,
           0,
           0,
           0,
           0,
           0,
           0,
           0,
           0,
           0,
           0,
           0,
           0,
           0
          ],
          "coloraxis": "coloraxis"
         },
         "mode": "markers",
         "name": "",
         "showlegend": false,
         "subplot": "mapbox",
         "type": "scattermapbox"
        }
       ],
       "layout": {
        "autosize": true,
        "coloraxis": {
         "colorbar": {
          "title": {
           "text": "target"
          }
         },
         "colorscale": [
          [
           0,
           "#0d0887"
          ],
          [
           0.1111111111111111,
           "#46039f"
          ],
          [
           0.2222222222222222,
           "#7201a8"
          ],
          [
           0.3333333333333333,
           "#9c179e"
          ],
          [
           0.4444444444444444,
           "#bd3786"
          ],
          [
           0.5555555555555556,
           "#d8576b"
          ],
          [
           0.6666666666666666,
           "#ed7953"
          ],
          [
           0.7777777777777778,
           "#fb9f3a"
          ],
          [
           0.8888888888888888,
           "#fdca26"
          ],
          [
           1,
           "#f0f921"
          ]
         ]
        },
        "legend": {
         "tracegroupgap": 0
        },
        "mapbox": {
         "bearing": 0,
         "center": {
          "lat": 55.75517358768565,
          "lon": 37.71956058762157
         },
         "domain": {
          "x": [
           0,
           1
          ],
          "y": [
           0,
           1
          ]
         },
         "pitch": 0,
         "style": "open-street-map",
         "zoom": 9.645396942135449
        },
        "margin": {
         "t": 60
        },
        "template": {
         "data": {
          "bar": [
           {
            "error_x": {
             "color": "#2a3f5f"
            },
            "error_y": {
             "color": "#2a3f5f"
            },
            "marker": {
             "line": {
              "color": "#E5ECF6",
              "width": 0.5
             },
             "pattern": {
              "fillmode": "overlay",
              "size": 10,
              "solidity": 0.2
             }
            },
            "type": "bar"
           }
          ],
          "barpolar": [
           {
            "marker": {
             "line": {
              "color": "#E5ECF6",
              "width": 0.5
             },
             "pattern": {
              "fillmode": "overlay",
              "size": 10,
              "solidity": 0.2
             }
            },
            "type": "barpolar"
           }
          ],
          "carpet": [
           {
            "aaxis": {
             "endlinecolor": "#2a3f5f",
             "gridcolor": "white",
             "linecolor": "white",
             "minorgridcolor": "white",
             "startlinecolor": "#2a3f5f"
            },
            "baxis": {
             "endlinecolor": "#2a3f5f",
             "gridcolor": "white",
             "linecolor": "white",
             "minorgridcolor": "white",
             "startlinecolor": "#2a3f5f"
            },
            "type": "carpet"
           }
          ],
          "choropleth": [
           {
            "colorbar": {
             "outlinewidth": 0,
             "ticks": ""
            },
            "type": "choropleth"
           }
          ],
          "contour": [
           {
            "colorbar": {
             "outlinewidth": 0,
             "ticks": ""
            },
            "colorscale": [
             [
              0,
              "#0d0887"
             ],
             [
              0.1111111111111111,
              "#46039f"
             ],
             [
              0.2222222222222222,
              "#7201a8"
             ],
             [
              0.3333333333333333,
              "#9c179e"
             ],
             [
              0.4444444444444444,
              "#bd3786"
             ],
             [
              0.5555555555555556,
              "#d8576b"
             ],
             [
              0.6666666666666666,
              "#ed7953"
             ],
             [
              0.7777777777777778,
              "#fb9f3a"
             ],
             [
              0.8888888888888888,
              "#fdca26"
             ],
             [
              1,
              "#f0f921"
             ]
            ],
            "type": "contour"
           }
          ],
          "contourcarpet": [
           {
            "colorbar": {
             "outlinewidth": 0,
             "ticks": ""
            },
            "type": "contourcarpet"
           }
          ],
          "heatmap": [
           {
            "colorbar": {
             "outlinewidth": 0,
             "ticks": ""
            },
            "colorscale": [
             [
              0,
              "#0d0887"
             ],
             [
              0.1111111111111111,
              "#46039f"
             ],
             [
              0.2222222222222222,
              "#7201a8"
             ],
             [
              0.3333333333333333,
              "#9c179e"
             ],
             [
              0.4444444444444444,
              "#bd3786"
             ],
             [
              0.5555555555555556,
              "#d8576b"
             ],
             [
              0.6666666666666666,
              "#ed7953"
             ],
             [
              0.7777777777777778,
              "#fb9f3a"
             ],
             [
              0.8888888888888888,
              "#fdca26"
             ],
             [
              1,
              "#f0f921"
             ]
            ],
            "type": "heatmap"
           }
          ],
          "heatmapgl": [
           {
            "colorbar": {
             "outlinewidth": 0,
             "ticks": ""
            },
            "colorscale": [
             [
              0,
              "#0d0887"
             ],
             [
              0.1111111111111111,
              "#46039f"
             ],
             [
              0.2222222222222222,
              "#7201a8"
             ],
             [
              0.3333333333333333,
              "#9c179e"
             ],
             [
              0.4444444444444444,
              "#bd3786"
             ],
             [
              0.5555555555555556,
              "#d8576b"
             ],
             [
              0.6666666666666666,
              "#ed7953"
             ],
             [
              0.7777777777777778,
              "#fb9f3a"
             ],
             [
              0.8888888888888888,
              "#fdca26"
             ],
             [
              1,
              "#f0f921"
             ]
            ],
            "type": "heatmapgl"
           }
          ],
          "histogram": [
           {
            "marker": {
             "pattern": {
              "fillmode": "overlay",
              "size": 10,
              "solidity": 0.2
             }
            },
            "type": "histogram"
           }
          ],
          "histogram2d": [
           {
            "colorbar": {
             "outlinewidth": 0,
             "ticks": ""
            },
            "colorscale": [
             [
              0,
              "#0d0887"
             ],
             [
              0.1111111111111111,
              "#46039f"
             ],
             [
              0.2222222222222222,
              "#7201a8"
             ],
             [
              0.3333333333333333,
              "#9c179e"
             ],
             [
              0.4444444444444444,
              "#bd3786"
             ],
             [
              0.5555555555555556,
              "#d8576b"
             ],
             [
              0.6666666666666666,
              "#ed7953"
             ],
             [
              0.7777777777777778,
              "#fb9f3a"
             ],
             [
              0.8888888888888888,
              "#fdca26"
             ],
             [
              1,
              "#f0f921"
             ]
            ],
            "type": "histogram2d"
           }
          ],
          "histogram2dcontour": [
           {
            "colorbar": {
             "outlinewidth": 0,
             "ticks": ""
            },
            "colorscale": [
             [
              0,
              "#0d0887"
             ],
             [
              0.1111111111111111,
              "#46039f"
             ],
             [
              0.2222222222222222,
              "#7201a8"
             ],
             [
              0.3333333333333333,
              "#9c179e"
             ],
             [
              0.4444444444444444,
              "#bd3786"
             ],
             [
              0.5555555555555556,
              "#d8576b"
             ],
             [
              0.6666666666666666,
              "#ed7953"
             ],
             [
              0.7777777777777778,
              "#fb9f3a"
             ],
             [
              0.8888888888888888,
              "#fdca26"
             ],
             [
              1,
              "#f0f921"
             ]
            ],
            "type": "histogram2dcontour"
           }
          ],
          "mesh3d": [
           {
            "colorbar": {
             "outlinewidth": 0,
             "ticks": ""
            },
            "type": "mesh3d"
           }
          ],
          "parcoords": [
           {
            "line": {
             "colorbar": {
              "outlinewidth": 0,
              "ticks": ""
             }
            },
            "type": "parcoords"
           }
          ],
          "pie": [
           {
            "automargin": true,
            "type": "pie"
           }
          ],
          "scatter": [
           {
            "fillpattern": {
             "fillmode": "overlay",
             "size": 10,
             "solidity": 0.2
            },
            "type": "scatter"
           }
          ],
          "scatter3d": [
           {
            "line": {
             "colorbar": {
              "outlinewidth": 0,
              "ticks": ""
             }
            },
            "marker": {
             "colorbar": {
              "outlinewidth": 0,
              "ticks": ""
             }
            },
            "type": "scatter3d"
           }
          ],
          "scattercarpet": [
           {
            "marker": {
             "colorbar": {
              "outlinewidth": 0,
              "ticks": ""
             }
            },
            "type": "scattercarpet"
           }
          ],
          "scattergeo": [
           {
            "marker": {
             "colorbar": {
              "outlinewidth": 0,
              "ticks": ""
             }
            },
            "type": "scattergeo"
           }
          ],
          "scattergl": [
           {
            "marker": {
             "colorbar": {
              "outlinewidth": 0,
              "ticks": ""
             }
            },
            "type": "scattergl"
           }
          ],
          "scattermapbox": [
           {
            "marker": {
             "colorbar": {
              "outlinewidth": 0,
              "ticks": ""
             }
            },
            "type": "scattermapbox"
           }
          ],
          "scatterpolar": [
           {
            "marker": {
             "colorbar": {
              "outlinewidth": 0,
              "ticks": ""
             }
            },
            "type": "scatterpolar"
           }
          ],
          "scatterpolargl": [
           {
            "marker": {
             "colorbar": {
              "outlinewidth": 0,
              "ticks": ""
             }
            },
            "type": "scatterpolargl"
           }
          ],
          "scatterternary": [
           {
            "marker": {
             "colorbar": {
              "outlinewidth": 0,
              "ticks": ""
             }
            },
            "type": "scatterternary"
           }
          ],
          "surface": [
           {
            "colorbar": {
             "outlinewidth": 0,
             "ticks": ""
            },
            "colorscale": [
             [
              0,
              "#0d0887"
             ],
             [
              0.1111111111111111,
              "#46039f"
             ],
             [
              0.2222222222222222,
              "#7201a8"
             ],
             [
              0.3333333333333333,
              "#9c179e"
             ],
             [
              0.4444444444444444,
              "#bd3786"
             ],
             [
              0.5555555555555556,
              "#d8576b"
             ],
             [
              0.6666666666666666,
              "#ed7953"
             ],
             [
              0.7777777777777778,
              "#fb9f3a"
             ],
             [
              0.8888888888888888,
              "#fdca26"
             ],
             [
              1,
              "#f0f921"
             ]
            ],
            "type": "surface"
           }
          ],
          "table": [
           {
            "cells": {
             "fill": {
              "color": "#EBF0F8"
             },
             "line": {
              "color": "white"
             }
            },
            "header": {
             "fill": {
              "color": "#C8D4E3"
             },
             "line": {
              "color": "white"
             }
            },
            "type": "table"
           }
          ]
         },
         "layout": {
          "annotationdefaults": {
           "arrowcolor": "#2a3f5f",
           "arrowhead": 0,
           "arrowwidth": 1
          },
          "autotypenumbers": "strict",
          "coloraxis": {
           "colorbar": {
            "outlinewidth": 0,
            "ticks": ""
           }
          },
          "colorscale": {
           "diverging": [
            [
             0,
             "#8e0152"
            ],
            [
             0.1,
             "#c51b7d"
            ],
            [
             0.2,
             "#de77ae"
            ],
            [
             0.3,
             "#f1b6da"
            ],
            [
             0.4,
             "#fde0ef"
            ],
            [
             0.5,
             "#f7f7f7"
            ],
            [
             0.6,
             "#e6f5d0"
            ],
            [
             0.7,
             "#b8e186"
            ],
            [
             0.8,
             "#7fbc41"
            ],
            [
             0.9,
             "#4d9221"
            ],
            [
             1,
             "#276419"
            ]
           ],
           "sequential": [
            [
             0,
             "#0d0887"
            ],
            [
             0.1111111111111111,
             "#46039f"
            ],
            [
             0.2222222222222222,
             "#7201a8"
            ],
            [
             0.3333333333333333,
             "#9c179e"
            ],
            [
             0.4444444444444444,
             "#bd3786"
            ],
            [
             0.5555555555555556,
             "#d8576b"
            ],
            [
             0.6666666666666666,
             "#ed7953"
            ],
            [
             0.7777777777777778,
             "#fb9f3a"
            ],
            [
             0.8888888888888888,
             "#fdca26"
            ],
            [
             1,
             "#f0f921"
            ]
           ],
           "sequentialminus": [
            [
             0,
             "#0d0887"
            ],
            [
             0.1111111111111111,
             "#46039f"
            ],
            [
             0.2222222222222222,
             "#7201a8"
            ],
            [
             0.3333333333333333,
             "#9c179e"
            ],
            [
             0.4444444444444444,
             "#bd3786"
            ],
            [
             0.5555555555555556,
             "#d8576b"
            ],
            [
             0.6666666666666666,
             "#ed7953"
            ],
            [
             0.7777777777777778,
             "#fb9f3a"
            ],
            [
             0.8888888888888888,
             "#fdca26"
            ],
            [
             1,
             "#f0f921"
            ]
           ]
          },
          "colorway": [
           "#636efa",
           "#EF553B",
           "#00cc96",
           "#ab63fa",
           "#FFA15A",
           "#19d3f3",
           "#FF6692",
           "#B6E880",
           "#FF97FF",
           "#FECB52"
          ],
          "font": {
           "color": "#2a3f5f"
          },
          "geo": {
           "bgcolor": "white",
           "lakecolor": "white",
           "landcolor": "#E5ECF6",
           "showlakes": true,
           "showland": true,
           "subunitcolor": "white"
          },
          "hoverlabel": {
           "align": "left"
          },
          "hovermode": "closest",
          "mapbox": {
           "style": "light"
          },
          "paper_bgcolor": "white",
          "plot_bgcolor": "#E5ECF6",
          "polar": {
           "angularaxis": {
            "gridcolor": "white",
            "linecolor": "white",
            "ticks": ""
           },
           "bgcolor": "#E5ECF6",
           "radialaxis": {
            "gridcolor": "white",
            "linecolor": "white",
            "ticks": ""
           }
          },
          "scene": {
           "xaxis": {
            "backgroundcolor": "#E5ECF6",
            "gridcolor": "white",
            "gridwidth": 2,
            "linecolor": "white",
            "showbackground": true,
            "ticks": "",
            "zerolinecolor": "white"
           },
           "yaxis": {
            "backgroundcolor": "#E5ECF6",
            "gridcolor": "white",
            "gridwidth": 2,
            "linecolor": "white",
            "showbackground": true,
            "ticks": "",
            "zerolinecolor": "white"
           },
           "zaxis": {
            "backgroundcolor": "#E5ECF6",
            "gridcolor": "white",
            "gridwidth": 2,
            "linecolor": "white",
            "showbackground": true,
            "ticks": "",
            "zerolinecolor": "white"
           }
          },
          "shapedefaults": {
           "line": {
            "color": "#2a3f5f"
           }
          },
          "ternary": {
           "aaxis": {
            "gridcolor": "white",
            "linecolor": "white",
            "ticks": ""
           },
           "baxis": {
            "gridcolor": "white",
            "linecolor": "white",
            "ticks": ""
           },
           "bgcolor": "#E5ECF6",
           "caxis": {
            "gridcolor": "white",
            "linecolor": "white",
            "ticks": ""
           }
          },
          "title": {
           "x": 0.05
          },
          "xaxis": {
           "automargin": true,
           "gridcolor": "white",
           "linecolor": "white",
           "ticks": "",
           "title": {
            "standoff": 15
           },
           "zerolinecolor": "white",
           "zerolinewidth": 2
          },
          "yaxis": {
           "automargin": true,
           "gridcolor": "white",
           "linecolor": "white",
           "ticks": "",
           "title": {
            "standoff": 15
           },
           "zerolinecolor": "white",
           "zerolinewidth": 2
          }
         }
        }
       }
      },
      "image/png": "[encoded data removed]",
      "text/html": [
       "<div>                            <div id=\"cb512228-e9a4-45ed-95df-5f3ea1604af6\" class=\"plotly-graph-div\" style=\"height:1000px; width:100%;\"></div>            <script type=\"text/javascript\">                require([\"plotly\"], function(Plotly) {                    window.PLOTLYENV=window.PLOTLYENV || {};                                    if (document.getElementById(\"cb512228-e9a4-45ed-95df-5f3ea1604af6\")) {                    Plotly.newPlot(                        \"cb512228-e9a4-45ed-95df-5f3ea1604af6\",                        [{\"customdata\":[[3.0,840.0],[1.0,728.0],[2.0,1568.0],[3.0,800.0],[3.0,3237.0],[1.0,110.0],[2.0,400.0],[3.0,200.0],[2.0,1003.0],[3.0,2815.6],[2.0,409.0],[2.0,439.0],[2.0,1600.0],[3.0,2620.0],[2.0,1630.0],[2.0,1014.93],[2.0,100.0],[2.0,150.0],[1.0,940.0],[2.0,1999.0],[1.0,186.0],[3.0,999.0],[2.0,9618.76],[3.0,21171.67],[2.0,150.0],[2.0,23600.0],[3.0,23200.0],[3.0,2745.0],[2.0,7070.0],[3.0,4594.0],[3.0,1865.0],[3.0,169.0],[1.0,3197.0],[3.0,750.78],[3.0,600.0],[1.0,49.49],[1.0,260.0],[2.0,4275.38],[2.0,520.0],[1.0,1710.0],[3.0,708.76],[2.0,907.0],[3.0,1740.53],[2.0,750.0],[2.0,1850.0],[3.0,1032.66],[1.0,95.98],[2.0,593.77],[2.0,399.97],[1.0,287.0],[2.0,1203.0],[3.0,1293.0],[2.0,390.0],[1.0,368.0],[2.0,624.0],[1.0,71.8],[2.0,4900.0],[2.0,209.98],[2.0,1620.0],[3.0,470.0],[3.0,610.0],[3.0,233.87],[3.0,4150.0],[2.0,1878.0],[1.0,4711.56],[2.0,1646.0],[3.0,3986.0],[2.0,319.0],[2.0,2000.0],[3.0,650.0],[2.0,1170.0],[3.0,50.0],[2.0,500.0],[2.0,63.8]],\"hovertemplate\":\"lat=%{lat}\\u003cbr\\u003elon=%{lon}\\u003cbr\\u003edatetime_id=%{customdata[0]}\\u003cbr\\u003esum=%{customdata[1]}\\u003cbr\\u003etarget=%{marker.color}\\u003cextra\\u003e\\u003c\\u002fextra\\u003e\",\"lat\":[55.78086399420479,55.780415696073185,55.780546545876,55.75678444075033,55.75718461790482,55.75614609774002,55.7567725817026,55.75697585471492,55.75623538720955,55.70060862040044,55.699485473935404,55.70063069085308,55.7121239661838,55.73980517497435,55.69883047741098,55.76189838079015,55.762004949055424,55.63735063256544,55.76093210246535,55.728164681570895,55.72776810585721,55.72820639274486,55.730712870619506,55.73046307178097,55.7674995602456,55.69556581156457,55.69591894913759,55.6961654220967,55.69503670300385,55.69547688930122,55.74997169294617,55.75046013902424,55.75311973534063,55.753493993500236,55.75213220801182,55.75240468118764,55.75328647198643,55.753479733565904,55.751956654912384,55.75233639644933,55.753554542178996,55.753468442163665,55.75276134670592,55.75275291184206,55.741470621256326,55.766178588213805,55.7657789155791,55.765700267665935,55.741816339409716,55.757269153523005,55.75723145565267,55.62154985638485,55.74504314791313,55.750977221950826,55.75014421583618,55.730563078540996,55.762146334844076,55.761496005374525,55.76179432942529,55.76677768529371,55.62146062728804,55.77115787963266,55.745705883247005,55.70804450281646,55.7523285999856,55.75292650844601,55.75236567395029,55.62723881311881,55.74650310346606,55.61841789782017,55.721157287773956,55.890234544170454,55.89138037650414,55.680051143247276],\"legendgroup\":\"\",\"lon\":[37.63367674462523,37.6337301802747,37.63353972834723,37.615372805912024,37.615553540612545,37.61588631361124,37.615804608889746,37.6159856231128,37.61608637521488,37.921643677517956,37.92234018177013,37.92211415470955,37.57862906349261,37.62730701619833,37.91386396477973,37.57326498713267,37.572111340231054,37.58664976134853,37.60833289599631,37.73016721528954,37.73000060021621,37.729015800639,37.73312369238268,37.73302396861487,37.57909760566727,37.67404192366076,37.6735935461393,37.673907996151534,37.67314305565466,37.67299031886746,37.591333286919806,37.591319920431474,37.82118503430475,37.82214933623236,37.82103934061755,37.82090531231517,37.82077839295272,37.820315131097125,37.82189462167601,37.820275888853985,37.82113381298405,37.820905289115835,37.821160837336215,37.82082691297276,37.63565324178853,37.83155360682885,37.83063311313954,37.832158523549104,37.459021346639496,37.61085250055193,37.61043091439502,37.66591334177054,37.62875774660446,37.81827637426241,37.81802768265094,37.61863863765216,37.57850934796491,37.57823857620055,37.57832052691088,37.82108908738146,37.715894381796794,37.60565342980265,37.86176522975527,37.748860709879644,37.831086051006245,37.83167495454882,37.83158093843526,37.71130249046696,37.54321789203571,37.682956101966006,37.606014248648194,37.529977414061115,37.530446741481406,37.74871459886587],\"marker\":{\"color\":[0,0,0,0,0,0,0,0,0,0,0,0,0,0,0,0,0,0,0,0,0,0,0,0,0,0,0,0,0,0,0,0,1,1,1,1,1,1,1,1,1,1,1,1,0,0,0,0,0,0,0,0,1,0,0,0,0,0,0,0,0,0,0,0,0,0,0,0,0,0,0,0,0,0],\"coloraxis\":\"coloraxis\"},\"mode\":\"markers\",\"name\":\"\",\"showlegend\":false,\"subplot\":\"mapbox\",\"type\":\"scattermapbox\"}],                        {\"template\":{\"data\":{\"histogram2dcontour\":[{\"type\":\"histogram2dcontour\",\"colorbar\":{\"outlinewidth\":0,\"ticks\":\"\"},\"colorscale\":[[0.0,\"#0d0887\"],[0.1111111111111111,\"#46039f\"],[0.2222222222222222,\"#7201a8\"],[0.3333333333333333,\"#9c179e\"],[0.4444444444444444,\"#bd3786\"],[0.5555555555555556,\"#d8576b\"],[0.6666666666666666,\"#ed7953\"],[0.7777777777777778,\"#fb9f3a\"],[0.8888888888888888,\"#fdca26\"],[1.0,\"#f0f921\"]]}],\"choropleth\":[{\"type\":\"choropleth\",\"colorbar\":{\"outlinewidth\":0,\"ticks\":\"\"}}],\"histogram2d\":[{\"type\":\"histogram2d\",\"colorbar\":{\"outlinewidth\":0,\"ticks\":\"\"},\"colorscale\":[[0.0,\"#0d0887\"],[0.1111111111111111,\"#46039f\"],[0.2222222222222222,\"#7201a8\"],[0.3333333333333333,\"#9c179e\"],[0.4444444444444444,\"#bd3786\"],[0.5555555555555556,\"#d8576b\"],[0.6666666666666666,\"#ed7953\"],[0.7777777777777778,\"#fb9f3a\"],[0.8888888888888888,\"#fdca26\"],[1.0,\"#f0f921\"]]}],\"heatmap\":[{\"type\":\"heatmap\",\"colorbar\":{\"outlinewidth\":0,\"ticks\":\"\"},\"colorscale\":[[0.0,\"#0d0887\"],[0.1111111111111111,\"#46039f\"],[0.2222222222222222,\"#7201a8\"],[0.3333333333333333,\"#9c179e\"],[0.4444444444444444,\"#bd3786\"],[0.5555555555555556,\"#d8576b\"],[0.6666666666666666,\"#ed7953\"],[0.7777777777777778,\"#fb9f3a\"],[0.8888888888888888,\"#fdca26\"],[1.0,\"#f0f921\"]]}],\"heatmapgl\":[{\"type\":\"heatmapgl\",\"colorbar\":{\"outlinewidth\":0,\"ticks\":\"\"},\"colorscale\":[[0.0,\"#0d0887\"],[0.1111111111111111,\"#46039f\"],[0.2222222222222222,\"#7201a8\"],[0.3333333333333333,\"#9c179e\"],[0.4444444444444444,\"#bd3786\"],[0.5555555555555556,\"#d8576b\"],[0.6666666666666666,\"#ed7953\"],[0.7777777777777778,\"#fb9f3a\"],[0.8888888888888888,\"#fdca26\"],[1.0,\"#f0f921\"]]}],\"contourcarpet\":[{\"type\":\"contourcarpet\",\"colorbar\":{\"outlinewidth\":0,\"ticks\":\"\"}}],\"contour\":[{\"type\":\"contour\",\"colorbar\":{\"outlinewidth\":0,\"ticks\":\"\"},\"colorscale\":[[0.0,\"#0d0887\"],[0.1111111111111111,\"#46039f\"],[0.2222222222222222,\"#7201a8\"],[0.3333333333333333,\"#9c179e\"],[0.4444444444444444,\"#bd3786\"],[0.5555555555555556,\"#d8576b\"],[0.6666666666666666,\"#ed7953\"],[0.7777777777777778,\"#fb9f3a\"],[0.8888888888888888,\"#fdca26\"],[1.0,\"#f0f921\"]]}],\"surface\":[{\"type\":\"surface\",\"colorbar\":{\"outlinewidth\":0,\"ticks\":\"\"},\"colorscale\":[[0.0,\"#0d0887\"],[0.1111111111111111,\"#46039f\"],[0.2222222222222222,\"#7201a8\"],[0.3333333333333333,\"#9c179e\"],[0.4444444444444444,\"#bd3786\"],[0.5555555555555556,\"#d8576b\"],[0.6666666666666666,\"#ed7953\"],[0.7777777777777778,\"#fb9f3a\"],[0.8888888888888888,\"#fdca26\"],[1.0,\"#f0f921\"]]}],\"mesh3d\":[{\"type\":\"mesh3d\",\"colorbar\":{\"outlinewidth\":0,\"ticks\":\"\"}}],\"scatter\":[{\"fillpattern\":{\"fillmode\":\"overlay\",\"size\":10,\"solidity\":0.2},\"type\":\"scatter\"}],\"parcoords\":[{\"type\":\"parcoords\",\"line\":{\"colorbar\":{\"outlinewidth\":0,\"ticks\":\"\"}}}],\"scatterpolargl\":[{\"type\":\"scatterpolargl\",\"marker\":{\"colorbar\":{\"outlinewidth\":0,\"ticks\":\"\"}}}],\"bar\":[{\"error_x\":{\"color\":\"#2a3f5f\"},\"error_y\":{\"color\":\"#2a3f5f\"},\"marker\":{\"line\":{\"color\":\"#E5ECF6\",\"width\":0.5},\"pattern\":{\"fillmode\":\"overlay\",\"size\":10,\"solidity\":0.2}},\"type\":\"bar\"}],\"scattergeo\":[{\"type\":\"scattergeo\",\"marker\":{\"colorbar\":{\"outlinewidth\":0,\"ticks\":\"\"}}}],\"scatterpolar\":[{\"type\":\"scatterpolar\",\"marker\":{\"colorbar\":{\"outlinewidth\":0,\"ticks\":\"\"}}}],\"histogram\":[{\"marker\":{\"pattern\":{\"fillmode\":\"overlay\",\"size\":10,\"solidity\":0.2}},\"type\":\"histogram\"}],\"scattergl\":[{\"type\":\"scattergl\",\"marker\":{\"colorbar\":{\"outlinewidth\":0,\"ticks\":\"\"}}}],\"scatter3d\":[{\"type\":\"scatter3d\",\"line\":{\"colorbar\":{\"outlinewidth\":0,\"ticks\":\"\"}},\"marker\":{\"colorbar\":{\"outlinewidth\":0,\"ticks\":\"\"}}}],\"scattermapbox\":[{\"type\":\"scattermapbox\",\"marker\":{\"colorbar\":{\"outlinewidth\":0,\"ticks\":\"\"}}}],\"scatterternary\":[{\"type\":\"scatterternary\",\"marker\":{\"colorbar\":{\"outlinewidth\":0,\"ticks\":\"\"}}}],\"scattercarpet\":[{\"type\":\"scattercarpet\",\"marker\":{\"colorbar\":{\"outlinewidth\":0,\"ticks\":\"\"}}}],\"carpet\":[{\"aaxis\":{\"endlinecolor\":\"#2a3f5f\",\"gridcolor\":\"white\",\"linecolor\":\"white\",\"minorgridcolor\":\"white\",\"startlinecolor\":\"#2a3f5f\"},\"baxis\":{\"endlinecolor\":\"#2a3f5f\",\"gridcolor\":\"white\",\"linecolor\":\"white\",\"minorgridcolor\":\"white\",\"startlinecolor\":\"#2a3f5f\"},\"type\":\"carpet\"}],\"table\":[{\"cells\":{\"fill\":{\"color\":\"#EBF0F8\"},\"line\":{\"color\":\"white\"}},\"header\":{\"fill\":{\"color\":\"#C8D4E3\"},\"line\":{\"color\":\"white\"}},\"type\":\"table\"}],\"barpolar\":[{\"marker\":{\"line\":{\"color\":\"#E5ECF6\",\"width\":0.5},\"pattern\":{\"fillmode\":\"overlay\",\"size\":10,\"solidity\":0.2}},\"type\":\"barpolar\"}],\"pie\":[{\"automargin\":true,\"type\":\"pie\"}]},\"layout\":{\"autotypenumbers\":\"strict\",\"colorway\":[\"#636efa\",\"#EF553B\",\"#00cc96\",\"#ab63fa\",\"#FFA15A\",\"#19d3f3\",\"#FF6692\",\"#B6E880\",\"#FF97FF\",\"#FECB52\"],\"font\":{\"color\":\"#2a3f5f\"},\"hovermode\":\"closest\",\"hoverlabel\":{\"align\":\"left\"},\"paper_bgcolor\":\"white\",\"plot_bgcolor\":\"#E5ECF6\",\"polar\":{\"bgcolor\":\"#E5ECF6\",\"angularaxis\":{\"gridcolor\":\"white\",\"linecolor\":\"white\",\"ticks\":\"\"},\"radialaxis\":{\"gridcolor\":\"white\",\"linecolor\":\"white\",\"ticks\":\"\"}},\"ternary\":{\"bgcolor\":\"#E5ECF6\",\"aaxis\":{\"gridcolor\":\"white\",\"linecolor\":\"white\",\"ticks\":\"\"},\"baxis\":{\"gridcolor\":\"white\",\"linecolor\":\"white\",\"ticks\":\"\"},\"caxis\":{\"gridcolor\":\"white\",\"linecolor\":\"white\",\"ticks\":\"\"}},\"coloraxis\":{\"colorbar\":{\"outlinewidth\":0,\"ticks\":\"\"}},\"colorscale\":{\"sequential\":[[0.0,\"#0d0887\"],[0.1111111111111111,\"#46039f\"],[0.2222222222222222,\"#7201a8\"],[0.3333333333333333,\"#9c179e\"],[0.4444444444444444,\"#bd3786\"],[0.5555555555555556,\"#d8576b\"],[0.6666666666666666,\"#ed7953\"],[0.7777777777777778,\"#fb9f3a\"],[0.8888888888888888,\"#fdca26\"],[1.0,\"#f0f921\"]],\"sequentialminus\":[[0.0,\"#0d0887\"],[0.1111111111111111,\"#46039f\"],[0.2222222222222222,\"#7201a8\"],[0.3333333333333333,\"#9c179e\"],[0.4444444444444444,\"#bd3786\"],[0.5555555555555556,\"#d8576b\"],[0.6666666666666666,\"#ed7953\"],[0.7777777777777778,\"#fb9f3a\"],[0.8888888888888888,\"#fdca26\"],[1.0,\"#f0f921\"]],\"diverging\":[[0,\"#8e0152\"],[0.1,\"#c51b7d\"],[0.2,\"#de77ae\"],[0.3,\"#f1b6da\"],[0.4,\"#fde0ef\"],[0.5,\"#f7f7f7\"],[0.6,\"#e6f5d0\"],[0.7,\"#b8e186\"],[0.8,\"#7fbc41\"],[0.9,\"#4d9221\"],[1,\"#276419\"]]},\"xaxis\":{\"gridcolor\":\"white\",\"linecolor\":\"white\",\"ticks\":\"\",\"title\":{\"standoff\":15},\"zerolinecolor\":\"white\",\"automargin\":true,\"zerolinewidth\":2},\"yaxis\":{\"gridcolor\":\"white\",\"linecolor\":\"white\",\"ticks\":\"\",\"title\":{\"standoff\":15},\"zerolinecolor\":\"white\",\"automargin\":true,\"zerolinewidth\":2},\"scene\":{\"xaxis\":{\"backgroundcolor\":\"#E5ECF6\",\"gridcolor\":\"white\",\"linecolor\":\"white\",\"showbackground\":true,\"ticks\":\"\",\"zerolinecolor\":\"white\",\"gridwidth\":2},\"yaxis\":{\"backgroundcolor\":\"#E5ECF6\",\"gridcolor\":\"white\",\"linecolor\":\"white\",\"showbackground\":true,\"ticks\":\"\",\"zerolinecolor\":\"white\",\"gridwidth\":2},\"zaxis\":{\"backgroundcolor\":\"#E5ECF6\",\"gridcolor\":\"white\",\"linecolor\":\"white\",\"showbackground\":true,\"ticks\":\"\",\"zerolinecolor\":\"white\",\"gridwidth\":2}},\"shapedefaults\":{\"line\":{\"color\":\"#2a3f5f\"}},\"annotationdefaults\":{\"arrowcolor\":\"#2a3f5f\",\"arrowhead\":0,\"arrowwidth\":1},\"geo\":{\"bgcolor\":\"white\",\"landcolor\":\"#E5ECF6\",\"subunitcolor\":\"white\",\"showland\":true,\"showlakes\":true,\"lakecolor\":\"white\"},\"title\":{\"x\":0.05},\"mapbox\":{\"style\":\"light\"}}},\"mapbox\":{\"domain\":{\"x\":[0.0,1.0],\"y\":[0.0,1.0]},\"center\":{\"lat\":55.739279231768656,\"lon\":37.70478975075555},\"zoom\":10,\"style\":\"open-street-map\"},\"coloraxis\":{\"colorbar\":{\"title\":{\"text\":\"target\"}},\"colorscale\":[[0.0,\"#0d0887\"],[0.1111111111111111,\"#46039f\"],[0.2222222222222222,\"#7201a8\"],[0.3333333333333333,\"#9c179e\"],[0.4444444444444444,\"#bd3786\"],[0.5555555555555556,\"#d8576b\"],[0.6666666666666666,\"#ed7953\"],[0.7777777777777778,\"#fb9f3a\"],[0.8888888888888888,\"#fdca26\"],[1.0,\"#f0f921\"]]},\"legend\":{\"tracegroupgap\":0},\"margin\":{\"t\":60},\"height\":1000},                        {\"responsive\": true}                    ).then(function(){\n",
       "                            \n",
       "var gd = document.getElementById('cb512228-e9a4-45ed-95df-5f3ea1604af6');\n",
       "var x = new MutationObserver(function (mutations, observer) {{\n",
       "        var display = window.getComputedStyle(gd).display;\n",
       "        if (!display || display === 'none') {{\n",
       "            console.log([gd, 'removed!']);\n",
       "            Plotly.purge(gd);\n",
       "            observer.disconnect();\n",
       "        }}\n",
       "}});\n",
       "\n",
       "// Listen for the removal of the full notebook cells\n",
       "var notebookContainer = gd.closest('#notebook-container');\n",
       "if (notebookContainer) {{\n",
       "    x.observe(notebookContainer, {childList: true});\n",
       "}}\n",
       "\n",
       "// Listen for the clearing of the current output cell\n",
       "var outputEl = gd.closest('.output');\n",
       "if (outputEl) {{\n",
       "    x.observe(outputEl, {childList: true});\n",
       "}}\n",
       "\n",
       "                        })                };                });            </script>        </div>"
      ]
     },
     "metadata": {},
     "output_type": "display_data"
    }
   ],
   "source": [
    "plot_df = transactions_df[(transactions_df[\"customer_id\"]==customer_id)].copy()\n",
    "\n",
    "# Добавим разброс, чтобы все было видно на карте\n",
    "plot_df['lat'] += np.random.normal(0, 0.0005, len(plot_df))\n",
    "plot_df['lon'] += np.random.normal(0, 0.0005, len(plot_df))\n",
    "color_mapping = {0: 'blue', 1: 'red'}\n",
    "color_sequence = plot_df['target'].apply(lambda x:color_mapping[x]).values\n",
    "fig = px.scatter_mapbox(plot_df,\n",
    "                        lat='lat',\n",
    "                        lon='lon',\n",
    "                        zoom=10, hover_data=[\"datetime_id\",\"sum\"],\n",
    "                        color=plot_df['target'], color_discrete_sequence=color_sequence,\n",
    "                       mapbox_style=\"open-street-map\",\n",
    "                       height=1000)\n",
    "# fig.update_layout(title='Plot of Points', hovermode='closest')\n",
    "fig.show()"
   ]
  },
  {
   "cell_type": "markdown",
   "id": "af6b692e-4a5f-44fe-8302-b134a60c9226",
   "metadata": {},
   "source": [
    "## Еще файлы"
   ]
  },
  {
   "cell_type": "code",
   "execution_count": null,
   "id": "bb76fefe-6071-418e-9a3b-bd5656ccd2ad",
   "metadata": {},
   "outputs": [],
   "source": [
    "# список всех 1658 геолокаций, где возможно снятие наличности, нужно разметить эти локации в решении\n",
    "# тут 77 локаций, которых нет в transactions_df.query(\"target==1\").h3_09.unique()\n",
    "with open(data_dir / \"hexses_target.lst\", \"r\") as file:\n",
    "    file_contents = file.read()\n",
    "hexses_target = file_contents.split(\"\\n\")"
   ]
  },
  {
   "cell_type": "code",
   "execution_count": null,
   "id": "086e4b09-863a-42c6-82cc-fc1b77deb079",
   "metadata": {},
   "outputs": [],
   "source": [
    "# бесполезный файл, список всех уникальных h3_09 из transactions_df (из всего 8154)\n",
    "with open(data_dir / \"hexses_data.lst\", \"r\") as file:\n",
    "    file_contents = file.read()\n",
    "hexses_data = file_contents.split(\"\\n\")"
   ]
  },
  {
   "cell_type": "code",
   "execution_count": null,
   "id": "544b48ea-177b-4398-baf8-ed62af55258e",
   "metadata": {},
   "outputs": [],
   "source": [
    "moscow_df = pd.read_parquet(data_dir / \"moscow.parquet\")"
   ]
  },
  {
   "cell_type": "code",
   "execution_count": null,
   "id": "dc97cbd9-b62f-4d1b-9525-a8d49626d168",
   "metadata": {},
   "outputs": [],
   "source": [
    "moscow_df.head()"
   ]
  },
  {
   "cell_type": "code",
   "execution_count": null,
   "id": "7f44de88-7d1e-498c-8c8e-eb3887dab0eb",
   "metadata": {},
   "outputs": [],
   "source": [
    "for tag in moscow_df[~moscow_df.tags.isna()].tags.iloc[:20]:\n",
    "    print(tag)"
   ]
  },
  {
   "cell_type": "code",
   "execution_count": null,
   "id": "dc509564-7150-449f-b1cb-bca7e5718ac5",
   "metadata": {},
   "outputs": [],
   "source": [
    "fig = px.scatter_mapbox(moscow_df.iloc[:10000], lat='lat', lon='lon', hover_name='id', zoom=10, hover_data=[\"tags\"])\n",
    "fig.update_layout(mapbox_style=\"open-street-map\", height=1000)\n",
    "fig.update_layout(title='Plot of Points', hovermode='closest')\n",
    "fig.show()"
   ]
  },
  {
   "cell_type": "code",
   "execution_count": null,
   "id": "54ec3b7b-b54f-422a-937d-7aac170dd1b3",
   "metadata": {},
   "outputs": [],
   "source": []
  }
 ],
 "metadata": {
  "kernelspec": {
   "display_name": "Python 3 (ipykernel)",
   "language": "python",
   "name": "python3"
  },
  "language_info": {
   "codemirror_mode": {
    "name": "ipython",
    "version": 3
   },
   "file_extension": ".py",
   "mimetype": "text/x-python",
   "name": "python",
   "nbconvert_exporter": "python",
   "pygments_lexer": "ipython3",
   "version": "3.8.18"
  }
 },
 "nbformat": 4,
 "nbformat_minor": 5
}
