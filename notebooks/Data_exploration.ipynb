{
 "cells": [
  {
   "cell_type": "code",
   "execution_count": null,
   "id": "ca016a97-b7d7-4bed-bb9e-24f80230bc4d",
   "metadata": {
    "scrolled": true
   },
   "outputs": [],
   "source": [
    "# ! pip install -r ../requirements-dev.txt -q"
   ]
  },
  {
   "cell_type": "code",
   "execution_count": null,
   "id": "ec68fd0a-3e0c-484a-8099-13dfe425d52c",
   "metadata": {},
   "outputs": [],
   "source": [
    "import pandas as pd\n",
    "import plotly.express as px\n",
    "import numpy as np\n",
    "from pathlib import Path\n",
    "import h3\n",
    "from math import radians, cos, sin, asin, sqrt, degrees, atan2"
   ]
  },
  {
   "cell_type": "markdown",
   "id": "a273ccaa-db0a-4a86-9cb7-a4d520aad609",
   "metadata": {},
   "source": [
    "## Собираем табличку с трейн данными"
   ]
  },
  {
   "cell_type": "code",
   "execution_count": null,
   "id": "da1f77e0-eadc-461e-9bdf-b2916675e64c",
   "metadata": {},
   "outputs": [],
   "source": [
    "data_dir = Path(\"..\\data\")"
   ]
  },
  {
   "cell_type": "code",
   "execution_count": null,
   "id": "1f16078d-6e2d-41a1-bcdd-4e99e43151b1",
   "metadata": {},
   "outputs": [],
   "source": [
    "transactions_df = pd.read_parquet(data_dir / \"transactions.parquet\").drop_duplicates().rename(columns={'h3_09': 'h3_09_trans'})\n",
    "# Заполняем std = 0 где одна транзакция\n",
    "transactions_df['std'].fillna(0, inplace=True)"
   ]
  },
  {
   "cell_type": "code",
   "execution_count": null,
   "id": "76108d16",
   "metadata": {},
   "outputs": [],
   "source": [
    "transactions_df.head()"
   ]
  },
  {
   "cell_type": "code",
   "execution_count": null,
   "id": "e30b3939-0d8b-4f2b-a138-008783b25206",
   "metadata": {},
   "outputs": [],
   "source": [
    "target_df = pd.read_parquet(data_dir / \"target.parquet\").drop_duplicates().rename(columns={'h3_09': 'h3_09_cash'})\n",
    "target_df.head()"
   ]
  },
  {
   "cell_type": "code",
   "execution_count": null,
   "id": "9b02df31-7cc0-47f2-aab5-7d6d5b216a8e",
   "metadata": {},
   "outputs": [],
   "source": [
    "# Определяем локации банкоматов и терминалов, мерджим банкоматы к транзакциям по клиенту\n",
    "trans_cash_df = transactions_df.merge(target_df, on='customer_id', how='left')\n",
    "\n",
    "used_locations_trans = trans_cash_df[[\"h3_09_trans\"]].drop_duplicates()\n",
    "used_locations_cash = trans_cash_df[[\"h3_09_cash\"]].drop_duplicates()\n",
    "\n",
    "used_locations_trans[['lat_trans', 'lon_trans']] = used_locations_trans['h3_09_trans'].apply(lambda x: pd.Series(h3.h3_to_geo(x)))\n",
    "used_locations_cash[['lat_cash', 'lon_cash']] = used_locations_cash['h3_09_cash'].apply(lambda x: pd.Series(h3.h3_to_geo(x)))\n",
    "\n",
    "trans_cash_df = trans_cash_df.merge(used_locations_trans, on=[\"h3_09_trans\"], how='left')\\\n",
    "                             .merge(used_locations_cash, on=[\"h3_09_cash\"], how='left')"
   ]
  },
  {
   "cell_type": "code",
   "execution_count": null,
   "id": "06a939f9",
   "metadata": {},
   "outputs": [],
   "source": [
    "# original formula from  http://www.movable-type.co.uk/scripts/latlong.html\n",
    "def distance_haversine(p1, p2):\n",
    "    \"\"\"\n",
    "    Calculate the great circle distance between two points \n",
    "    on the earth (specified in decimal degrees)\n",
    "    Haversine\n",
    "    formula: \n",
    "        a = sin²(Δφ/2) + cos φ1 ⋅ cos φ2 ⋅ sin²(Δλ/2)\n",
    "                        _   ____\n",
    "        c = 2 ⋅ atan2( √a, √(1−a) )\n",
    "        d = R ⋅ c\n",
    "\n",
    "    where   φ is latitude, λ is longitude, R is earth’s radius (mean radius = 6,371km);\n",
    "            note that angles need to be in radians to pass to trig functions!\n",
    "    \"\"\"\n",
    "    def validate_point(p):\n",
    "        lat, lon = p\n",
    "        assert -90 <= lat <= 90, \"bad latitude\"\n",
    "        assert -180 <= lon <= 180, \"bad longitude\"\n",
    "    \n",
    "    lat1, lon1 = p1\n",
    "    lat2, lon2 = p2\n",
    "    for p in [p1, p2]:\n",
    "        validate_point(p)\n",
    "\n",
    "    R = 6371 # km - earths's radius\n",
    "\n",
    "    # convert decimal degrees to radians \n",
    "    lat1, lon1, lat2, lon2 = map(radians, [lat1, lon1, lat2, lon2])\n",
    "\n",
    "    # haversine formula \n",
    "    dlon = lon2 - lon1\n",
    "    dlat = lat2 - lat1\n",
    "\n",
    "    a = sin(dlat/2)**2 + cos(lat1) * cos(lat2) * sin(dlon/2)**2\n",
    "    c = 2 * asin(sqrt(a)) # 2 * atan2(sqrt(a), sqrt(1-a))\n",
    "    d = R * c\n",
    "    return d"
   ]
  },
  {
   "cell_type": "code",
   "execution_count": null,
   "id": "db487f07",
   "metadata": {},
   "outputs": [],
   "source": [
    "# lat lon делаем одной колонкой для удобства\n",
    "trans_cash_df['lat_lon_trans'] = trans_cash_df[['lat_trans','lon_trans']].values.tolist()\n",
    "trans_cash_df['lat_lon_cash'] = trans_cash_df[['lat_cash','lon_cash']].values.tolist()"
   ]
  },
  {
   "cell_type": "code",
   "execution_count": null,
   "id": "536d7019",
   "metadata": {},
   "outputs": [],
   "source": [
    "trans_cash_df.head()"
   ]
  },
  {
   "cell_type": "code",
   "execution_count": null,
   "id": "ae70012d",
   "metadata": {},
   "outputs": [],
   "source": [
    "# Считаем расстояние от бонкоматов где чел снимал деньги до его транзакций\n",
    "# Может помочь для определения точек транзакций для которых нужна наличка\n",
    "trans_cash_df['trans_cash_distance'] = trans_cash_df.apply(lambda x: distance_haversine(x['lat_lon_trans'], x['lat_lon_cash']), axis=1)"
   ]
  },
  {
   "cell_type": "code",
   "execution_count": null,
   "id": "482de3ad",
   "metadata": {},
   "outputs": [],
   "source": [
    "# trans_cash_df.to_csv('transactions_cash.csv')"
   ]
  },
  {
   "cell_type": "code",
   "execution_count": null,
   "id": "27936c9b",
   "metadata": {},
   "outputs": [],
   "source": [
    "trans_cash_df.head(10)"
   ]
  },
  {
   "cell_type": "markdown",
   "id": "dc6c21b8-ad4c-42aa-bf65-314fd279499a",
   "metadata": {},
   "source": [
    "## Посмотрим на выбранного клиента"
   ]
  },
  {
   "cell_type": "code",
   "execution_count": null,
   "id": "03dd1fd4-19f6-4bfb-95a1-e30c5776d0ae",
   "metadata": {},
   "outputs": [],
   "source": [
    "customer_id = 14235\n",
    "trans_cash_df[(trans_cash_df[\"customer_id\"]==customer_id)]\n",
    "# Чел в разные дни снимает в одном и том же банкомате (только однажды решил снять в 8911aa78c93ffff)"
   ]
  },
  {
   "cell_type": "code",
   "execution_count": null,
   "id": "00711a89",
   "metadata": {},
   "outputs": [],
   "source": [
    "(transactions_df.groupby(['customer_id'], as_index=False)['h3_09_trans'].count()\n",
    "                                         .sort_values(by='h3_09_trans', ascending=False))"
   ]
  },
  {
   "cell_type": "code",
   "execution_count": null,
   "id": "6070a01d-7678-4bc3-b776-a9067f83d03d",
   "metadata": {},
   "outputs": [],
   "source": [
    "def plot_trans_and_cash(df: pd.DataFrame, customer_id: int = None) -> None:\n",
    "    \"\"\"Plots map of transactions and cash withdraw of particular client or all clients\"\"\"\n",
    "    plot_df = df.copy()\n",
    "\n",
    "    if customer_id:\n",
    "        plot_df = plot_df.query('customer_id == @customer_id')\n",
    "    plot_cash_df = plot_df[['lat_cash', 'lon_cash', 'datetime_id']].drop_duplicates().rename(columns={'lat_cash': 'lat', 'lon_cash': 'lon'})\n",
    "    plot_cash_df['target'] = 1\n",
    "    plot_trans_df = plot_df[['lat_trans', 'lon_trans', 'datetime_id']].drop_duplicates().rename(columns={'lat_trans': 'lat', 'lon_trans': 'lon'})\n",
    "    plot_trans_df['target'] = 0\n",
    "    plot_df = pd.concat([plot_trans_df, plot_cash_df])\n",
    "\n",
    "    # Добавим разброс, чтобы все было видно на карте\n",
    "    # plot_df['lat'] += np.random.normal(0, 0.0005, len(plot_df))\n",
    "    # plot_df['lon'] += np.random.normal(0, 0.0005, len(plot_df))\n",
    "    color_mapping = {0: 'blue', 1: 'red'}\n",
    "    color_sequence = plot_df['target'].apply(lambda x:color_mapping[x]).values\n",
    "    fig = px.scatter_mapbox(plot_df,\n",
    "                            lat='lat',\n",
    "                            lon='lon',\n",
    "                            zoom=10, \n",
    "                            hover_data=[\"datetime_id\"],\n",
    "                            color=plot_df['target'], color_discrete_sequence=color_sequence,\n",
    "                           mapbox_style=\"open-street-map\",\n",
    "                           height=1000)\n",
    "    # fig.update_layout(title='Plot of Points', hovermode='closest')\n",
    "    fig.show()"
   ]
  },
  {
   "cell_type": "code",
   "execution_count": null,
   "id": "4b253042",
   "metadata": {},
   "outputs": [],
   "source": [
    "plot_trans_and_cash(trans_cash_df, 70785)"
   ]
  },
  {
   "cell_type": "markdown",
   "id": "af6b692e-4a5f-44fe-8302-b134a60c9226",
   "metadata": {},
   "source": [
    "## Еще файлы"
   ]
  },
  {
   "cell_type": "code",
   "execution_count": null,
   "id": "bb76fefe-6071-418e-9a3b-bd5656ccd2ad",
   "metadata": {},
   "outputs": [],
   "source": [
    "# список всех 1658 геолокаций, где возможно снятие наличности, нужно разметить эти локации в решении\n",
    "# тут 77 локаций, которых нет в transactions_df.query(\"target==1\").h3_09.unique()\n",
    "with open(data_dir / \"hexses_target.lst\", \"r\") as file:\n",
    "    file_contents = file.read()\n",
    "hexses_target = file_contents.split(\"\\n\")"
   ]
  },
  {
   "cell_type": "code",
   "execution_count": null,
   "id": "086e4b09-863a-42c6-82cc-fc1b77deb079",
   "metadata": {},
   "outputs": [],
   "source": [
    "# бесполезный файл, список всех уникальных h3_09 из transactions_df (из всего 8154)\n",
    "with open(data_dir / \"hexses_data.lst\", \"r\") as file:\n",
    "    file_contents = file.read()\n",
    "hexses_data = file_contents.split(\"\\n\")"
   ]
  },
  {
   "cell_type": "code",
   "execution_count": null,
   "id": "544b48ea-177b-4398-baf8-ed62af55258e",
   "metadata": {},
   "outputs": [],
   "source": [
    "moscow_df = pd.read_parquet(data_dir / \"moscow.parquet\")"
   ]
  },
  {
   "cell_type": "code",
   "execution_count": null,
   "id": "dc97cbd9-b62f-4d1b-9525-a8d49626d168",
   "metadata": {},
   "outputs": [],
   "source": [
    "moscow_df.head()"
   ]
  },
  {
   "cell_type": "code",
   "execution_count": null,
   "id": "7f44de88-7d1e-498c-8c8e-eb3887dab0eb",
   "metadata": {},
   "outputs": [],
   "source": [
    "for tag in moscow_df[~moscow_df.tags.isna()].tags.iloc[:20]:\n",
    "    print(tag)"
   ]
  },
  {
   "cell_type": "code",
   "execution_count": null,
   "id": "dc509564-7150-449f-b1cb-bca7e5718ac5",
   "metadata": {},
   "outputs": [],
   "source": [
    "fig = px.scatter_mapbox(moscow_df.iloc[:10000], lat='lat', lon='lon', hover_name='id', zoom=10, hover_data=[\"tags\"])\n",
    "fig.update_layout(mapbox_style=\"open-street-map\", height=1000)\n",
    "fig.update_layout(title='Plot of Points', hovermode='closest')\n",
    "fig.show()"
   ]
  },
  {
   "cell_type": "code",
   "execution_count": null,
   "id": "54ec3b7b-b54f-422a-937d-7aac170dd1b3",
   "metadata": {},
   "outputs": [],
   "source": []
  }
 ],
 "metadata": {
  "kernelspec": {
   "display_name": "Python 3",
   "language": "python",
   "name": "python3"
  },
  "language_info": {
   "codemirror_mode": {
    "name": "ipython",
    "version": 3
   },
   "file_extension": ".py",
   "mimetype": "text/x-python",
   "name": "python",
   "nbconvert_exporter": "python",
   "pygments_lexer": "ipython3",
   "version": "3.8.8"
  }
 },
 "nbformat": 4,
 "nbformat_minor": 5
}
