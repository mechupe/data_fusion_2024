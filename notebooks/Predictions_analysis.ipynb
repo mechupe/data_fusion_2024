{
 "cells": [
  {
   "cell_type": "code",
   "execution_count": null,
   "id": "ca016a97-b7d7-4bed-bb9e-24f80230bc4d",
   "metadata": {
    "scrolled": true
   },
   "outputs": [],
   "source": [
    "# ! pip install -r ../requirements-dev.txt -q"
   ]
  },
  {
   "cell_type": "code",
   "execution_count": null,
   "id": "ec68fd0a-3e0c-484a-8099-13dfe425d52c",
   "metadata": {},
   "outputs": [],
   "source": [
    "import pandas as pd\n",
    "import plotly.express as px\n",
    "import numpy as np\n",
    "from pathlib import Path\n",
    "import h3\n",
    "from math import radians, cos, sin, asin, sqrt, degrees, atan2\n",
    "import shapely\n",
    "import geopandas as gpd"
   ]
  },
  {
   "cell_type": "code",
   "execution_count": null,
   "id": "7f865265-4ad5-4878-b583-92d33f818d2d",
   "metadata": {},
   "outputs": [],
   "source": [
    "data_dir = Path(\"..\",\"data\")\n",
    "models_dir = Path(\"..\", \"models\")"
   ]
  },
  {
   "cell_type": "markdown",
   "id": "a273ccaa-db0a-4a86-9cb7-a4d520aad609",
   "metadata": {
    "jp-MarkdownHeadingCollapsed": true
   },
   "source": [
    "## Загружаем трейн данные"
   ]
  },
  {
   "cell_type": "code",
   "execution_count": null,
   "id": "1f16078d-6e2d-41a1-bcdd-4e99e43151b1",
   "metadata": {},
   "outputs": [],
   "source": [
    "transactions_df = pd.read_parquet(data_dir / \"transactions.parquet\")\n",
    "# Заполняем std = 0 где одна транзакция\n",
    "transactions_df['std'].fillna(0, inplace=True)\n",
    "# transactions_df.head()"
   ]
  },
  {
   "cell_type": "code",
   "execution_count": null,
   "id": "e30b3939-0d8b-4f2b-a138-008783b25206",
   "metadata": {},
   "outputs": [],
   "source": [
    "target_df = pd.read_parquet(data_dir / \"target.parquet\")\n",
    "# target_df.head()"
   ]
  },
  {
   "cell_type": "code",
   "execution_count": null,
   "id": "bea3cc43-d5eb-41ac-a7d3-4a68ad179e40",
   "metadata": {},
   "outputs": [],
   "source": [
    "# Собираем список всех доступных Hexes\n",
    "# список всех 1658 геолокаций, где возможно снятие наличности, нужно разметить эти локации в решении\n",
    "# Есть 3 локации, по которым нет транзакций set(hexses_target).difference(transactions_df.h3_09)\n",
    "with open(data_dir / \"hexses_target.lst\", \"r\") as file:\n",
    "    file_contents = file.read()\n",
    "hexses_target = file_contents[:-1].split(\"\\n\") # remove /n\n",
    "assert set(hexses_target)==set(target_df.h3_09)\n",
    "\n",
    "# Cписок всех 8154 геолокаций h3_09 из transactions_df\n",
    "with open(data_dir / \"hexses_data.lst\", \"r\") as file:\n",
    "    file_contents = file.read()\n",
    "hexses_data = file_contents[:-1].split(\"\\n\")\n",
    "\n",
    "all_hexses = list(set(hexses_target) | set(hexses_data))\n",
    "# all_hexses = pd.DataFrame({\"h3_09\":all_hexses})\n",
    "all_hexses = gpd.GeoDataFrame({\"h3_09\":all_hexses})\n",
    "all_hexses[\"geometry\"] = all_hexses[\"h3_09\"].apply(lambda x: shapely.geometry.Polygon(h3.h3_to_geo_boundary(x, geo_json=True)))\n",
    "all_hexses[['lat', 'lon']] = all_hexses['h3_09'].apply(lambda x: pd.Series(h3.h3_to_geo(x)))\n",
    "\n",
    "atm_hexses = all_hexses.merge(pd.DataFrame({\"h3_09\":hexses_target}))"
   ]
  },
  {
   "cell_type": "code",
   "execution_count": null,
   "id": "ceeb9082-de22-4334-a5b4-79b8531ce01e",
   "metadata": {},
   "outputs": [],
   "source": [
    "transactions_df = pd.merge(transactions_df, all_hexses, on=\"h3_09\")\n",
    "target_df = pd.merge(target_df, all_hexses, on=\"h3_09\")"
   ]
  },
  {
   "cell_type": "markdown",
   "id": "dc6c21b8-ad4c-42aa-bf65-314fd279499a",
   "metadata": {
    "jp-MarkdownHeadingCollapsed": true
   },
   "source": [
    "## Посмотрим на выбранного клиента"
   ]
  },
  {
   "cell_type": "code",
   "execution_count": null,
   "id": "03dd1fd4-19f6-4bfb-95a1-e30c5776d0ae",
   "metadata": {},
   "outputs": [],
   "source": [
    "customer_id = 14235"
   ]
  },
  {
   "cell_type": "code",
   "execution_count": null,
   "id": "6070a01d-7678-4bc3-b776-a9067f83d03d",
   "metadata": {},
   "outputs": [],
   "source": [
    "# See https://towardsdatascience.com/constructing-hexagon-maps-with-h3-and-plotly-a-comprehensive-tutorial-8f37a91573bb\n",
    "\n",
    "def plot_customer_activity(all_hexses: pd.DataFrame, transactions_df: pd.DataFrame, target_df: pd.DataFrame, customer_id: int = None) -> None:\n",
    "    \"\"\"Plots map of transactions and cash withdraw of particular client or all clients\"\"\"\n",
    "    transactions_df_plot = transactions_df.copy()\n",
    "    target_df_plot = target_df.copy()\n",
    "\n",
    "    if customer_id:\n",
    "        transactions_df_plot = transactions_df_plot.query('customer_id == @customer_id')\n",
    "        target_df_plot = target_df_plot.query('customer_id == @customer_id')\n",
    "\n",
    "    # Добавим разброс, чтобы все было видно на карте\n",
    "    transactions_df_plot['lat'] += np.random.normal(0, 0.0003, len(transactions_df_plot))\n",
    "    transactions_df_plot['lon'] += np.random.normal(0, 0.0003, len(transactions_df_plot))\n",
    "\n",
    "    fig = px.choropleth_mapbox(\n",
    "        all_hexses,\n",
    "        geojson=all_hexses.geometry,\n",
    "        locations=all_hexses.index,  # Use index as locations to avoid duplicate rows\n",
    "        center={\"lat\": 55.7558, \"lon\": 37.6173},  # Adjust the center as needed\n",
    "        mapbox_style=\"open-street-map\",\n",
    "        opacity=0.2,\n",
    "        height=800,\n",
    "        zoom=10\n",
    "    )\n",
    "\n",
    "    data = px.scatter_mapbox(transactions_df_plot, lat='lat', lon='lon', color_discrete_sequence=['blue'],\n",
    "                            hover_data=[\"datetime_id\"]).data\n",
    "    for trace in data:\n",
    "        fig.add_trace(trace)\n",
    "\n",
    "    data = px.scatter_mapbox(target_df_plot, lat='lat', lon='lon', color_discrete_sequence=['red']).data\n",
    "    for trace in data:\n",
    "        fig.add_trace(trace)\n",
    "    fig.show()"
   ]
  },
  {
   "cell_type": "code",
   "execution_count": null,
   "id": "4b253042",
   "metadata": {},
   "outputs": [],
   "source": [
    "# plot_customer_activity(all_hexses, transactions_df, target_df, customer_id)"
   ]
  },
  {
   "cell_type": "markdown",
   "id": "eab97cab-f954-4df9-aa23-55228e9e1441",
   "metadata": {},
   "source": [
    "## Plot predictions"
   ]
  },
  {
   "cell_type": "code",
   "execution_count": null,
   "id": "85fbca89-5bd7-484d-a3c5-8010cfc9c3ab",
   "metadata": {},
   "outputs": [],
   "source": [
    "# See https://towardsdatascience.com/constructing-hexagon-maps-with-h3-and-plotly-a-comprehensive-tutorial-8f37a91573bb\n",
    "def plot_customer_preds(hexses: pd.DataFrame,\n",
    "                        transactions_df: pd.DataFrame,\n",
    "                        target_df: pd.DataFrame,\n",
    "                        preds: pd.DataFrame,\n",
    "                        customer_id: int) -> None:\n",
    "    \"\"\"Plots map of transactions and cash withdraw of particular client or all clients\"\"\"\n",
    "    transactions_df_plot = transactions_df.copy()\n",
    "    target_df_plot = target_df.copy()\n",
    "    atm_preds = preds.query(f\"index == {customer_id}\").T.reset_index()\n",
    "    atm_preds.columns = [\"h3_09\",\"pred\"]\n",
    "    atm_preds[\"pred\"] = atm_preds[\"pred\"].round(5)\n",
    "    atm_hexses_preds = hexses.merge(atm_preds, on=\"h3_09\")\n",
    "    atm_hexses_preds = atm_hexses_preds.query(\"pred>0.01\") # Уберем с графика хексы, где очень низкая вероятность снятия\n",
    "\n",
    "    transactions_df_plot = transactions_df_plot.query('customer_id == @customer_id')\n",
    "    transactions_df_plot = pd.merge(transactions_df_plot, atm_preds, how=\"left\", on=\"h3_09\")\n",
    "    target_df_plot = target_df_plot.query('customer_id == @customer_id')\n",
    "    target_df_plot = pd.merge(target_df_plot, atm_preds, how=\"left\", on=\"h3_09\")\n",
    "    \n",
    "    # Добавим разброс, чтобы все было видно на карте\n",
    "    transactions_df_plot['lat'] += np.random.normal(0, 0.0003, len(transactions_df_plot))\n",
    "    transactions_df_plot['lon'] += np.random.normal(0, 0.0003, len(transactions_df_plot))\n",
    "\n",
    "    fig = px.choropleth_mapbox(\n",
    "        atm_hexses_preds,\n",
    "        geojson=atm_hexses_preds.geometry,\n",
    "        locations=atm_hexses_preds.index,  # Use index as locations to avoid duplicate rows\n",
    "        hover_data=[\"h3_09\",\"pred\"],\n",
    "        color=\"pred\",\n",
    "        color_continuous_scale=\"BuGn\",\n",
    "        center={\"lat\": 55.7558, \"lon\": 37.6173},  # Adjust the center as needed\n",
    "        mapbox_style=\"carto-positron\",\n",
    "        opacity=0.7,\n",
    "        height=800,\n",
    "        zoom=10\n",
    "    )\n",
    "    \n",
    "    data = px.scatter_mapbox(transactions_df_plot, lat='lat', lon='lon', color_discrete_sequence=['blue'], opacity=0.5,\n",
    "                            hover_data=[\"datetime_id\",\"pred\"]).data\n",
    "    for trace in data:\n",
    "        fig.add_trace(trace)\n",
    "\n",
    "    data = px.scatter_mapbox(target_df_plot, lat='lat', lon='lon', color_discrete_sequence=['red'], opacity=0.5,\n",
    "                            hover_data=[\"pred\"]).data\n",
    "    for trace in data:\n",
    "        fig.add_trace(trace)\n",
    "    fig.show()\n",
    "\n",
    "def analyse_customer(all_hexses, transactions_df, target_df, preds, row_scores, customer_id):\n",
    "    print(f\"Scores: mean={row_scores.score.mean().round(5)}, min={round(row_scores.score.min(),5)}, max={round(row_scores.score.max(),5)}, user=\", row_scores.query(\"index == @customer_id\").iloc[0,0].round(5))\n",
    "    plot_customer_preds(all_hexses, transactions_df, target_df, preds, customer_id)"
   ]
  },
  {
   "cell_type": "code",
   "execution_count": null,
   "id": "818ccccf-c776-4e7a-9d75-0124d900a4ca",
   "metadata": {},
   "outputs": [],
   "source": [
    "model_1_dir = models_dir / \"dummy_mean\"\n",
    "row_scores_1 = pd.read_csv(model_1_dir/\"row_scores.csv\").set_index(\"customer_id\")\n",
    "col_scores_1 = pd.read_csv(model_1_dir/\"col_scores.csv\").set_index(\"h3_09\")\n",
    "preds_1 = pd.read_parquet(model_1_dir/\"preds.parquet\").set_index(\"customer_id\")"
   ]
  },
  {
   "cell_type": "code",
   "execution_count": null,
   "id": "77dec575-6fd7-4caf-97d6-a1650beb89c1",
   "metadata": {},
   "outputs": [],
   "source": [
    "model_2_dir = models_dir / \"catboost_plain_5iter\"\n",
    "row_scores_2 = pd.read_csv(model_2_dir/\"row_scores.csv\").set_index(\"customer_id\")\n",
    "col_scores_2 = pd.read_csv(model_2_dir/\"col_scores.csv\").set_index(\"h3_09\")\n",
    "preds_2 = pd.read_parquet(model_2_dir/\"preds.parquet\").set_index(\"customer_id\")\n",
    "\n",
    "# row_scores_1 = row_scores_1[row_scores_1.index.isin(row_scores_2.index)]\n",
    "# preds_1 = preds_1[preds_1.index.isin(preds_2.index)]\n",
    "assert preds_1.shape == preds_2.shape\n",
    "row_scores_compare = pd.merge(row_scores_1, row_scores_2, left_index=True, right_index=True)\n",
    "row_scores_compare.columns = [\"score_1\", \"score_2\"]\n",
    "row_scores_compare[\"score_diff\"] = row_scores_compare[\"score_2\"] - row_scores_compare[\"score_1\"]\n",
    "\n",
    "col_scores_compare = pd.merge(col_scores_1, col_scores_2, left_index=True, right_index=True)\n",
    "col_scores_compare.columns = [\"score_1\", \"score_2\"]\n",
    "col_scores_compare[\"score_diff\"] = col_scores_compare[\"score_2\"] - col_scores_compare[\"score_1\"]"
   ]
  },
  {
   "cell_type": "code",
   "execution_count": null,
   "id": "b72b4642-ec95-47bc-9a5b-bfd3a4b18bf1",
   "metadata": {},
   "outputs": [],
   "source": [
    "display(row_scores_compare.mean())\n",
    "# 15.237166 dummy_mean\n",
    "# 10.860466 catboost_plain_5iter\n",
    "display(col_scores_compare.mean())\n",
    "# 212.532565 dummy_mean\n",
    "# 151.485038 catboost_plain_5iter"
   ]
  },
  {
   "cell_type": "code",
   "execution_count": null,
   "id": "bfc0ec15-af08-46e5-af93-23faf3ad4599",
   "metadata": {},
   "outputs": [],
   "source": [
    "# row_scores_compare.score_diff.hist()"
   ]
  },
  {
   "cell_type": "code",
   "execution_count": null,
   "id": "eea377fc-5b51-4db2-b5f7-0a0ab81b7081",
   "metadata": {},
   "outputs": [],
   "source": [
    "row_scores_compare[row_scores_compare.score_1<600].sort_values(\"score_diff\")"
   ]
  },
  {
   "cell_type": "code",
   "execution_count": null,
   "id": "6056d3c8-6c78-467d-8f98-adffa87c5bfa",
   "metadata": {},
   "outputs": [],
   "source": [
    "customer_id = 10742\n",
    "row_scores_compare.query(\"index==@customer_id\")"
   ]
  },
  {
   "cell_type": "code",
   "execution_count": null,
   "id": "3bcf9df2-93a9-4387-a2af-7391c98e1df7",
   "metadata": {},
   "outputs": [],
   "source": [
    "analyse_customer(all_hexses, transactions_df, target_df, preds_1, row_scores_1, customer_id)"
   ]
  },
  {
   "cell_type": "code",
   "execution_count": null,
   "id": "035a3a32-9d35-420d-8f8d-636f5268536d",
   "metadata": {},
   "outputs": [],
   "source": [
    "analyse_customer(all_hexses, transactions_df, target_df, preds_2, row_scores_2, customer_id)"
   ]
  },
  {
   "cell_type": "code",
   "execution_count": null,
   "id": "74b27df5-4390-420e-9a2d-da80c6aa7ca1",
   "metadata": {},
   "outputs": [],
   "source": [
    "len(target_df.h3_09.unique())"
   ]
  },
  {
   "cell_type": "code",
   "execution_count": null,
   "id": "77bb03ae-6906-46ff-a55e-694f0c969109",
   "metadata": {},
   "outputs": [],
   "source": [
    "col_scores_1.shape"
   ]
  },
  {
   "cell_type": "code",
   "execution_count": null,
   "id": "0ad0338b-a72a-4478-8ea2-1ce72b3d601c",
   "metadata": {},
   "outputs": [],
   "source": [
    "col_scores_compare.query(f\"index=='8911aa7b283ffff'\")"
   ]
  },
  {
   "cell_type": "code",
   "execution_count": null,
   "id": "368325de-c8a9-4832-b7a6-17ff05ff76a2",
   "metadata": {},
   "outputs": [],
   "source": []
  },
  {
   "cell_type": "markdown",
   "id": "af6b692e-4a5f-44fe-8302-b134a60c9226",
   "metadata": {},
   "source": [
    "## Еще файлы"
   ]
  },
  {
   "cell_type": "code",
   "execution_count": null,
   "id": "544b48ea-177b-4398-baf8-ed62af55258e",
   "metadata": {},
   "outputs": [],
   "source": [
    "moscow_df = pd.read_parquet(data_dir / \"moscow.parquet\")"
   ]
  },
  {
   "cell_type": "code",
   "execution_count": null,
   "id": "dc97cbd9-b62f-4d1b-9525-a8d49626d168",
   "metadata": {},
   "outputs": [],
   "source": [
    "moscow_df.head()"
   ]
  },
  {
   "cell_type": "code",
   "execution_count": null,
   "id": "7f44de88-7d1e-498c-8c8e-eb3887dab0eb",
   "metadata": {},
   "outputs": [],
   "source": [
    "for tag in moscow_df[~moscow_df.tags.isna()].tags.iloc[:20]:\n",
    "    print(tag)"
   ]
  },
  {
   "cell_type": "code",
   "execution_count": null,
   "id": "e5f55d19-6e2a-433f-9c88-c1f55dde1fd7",
   "metadata": {},
   "outputs": [],
   "source": []
  },
  {
   "cell_type": "code",
   "execution_count": null,
   "id": "dc509564-7150-449f-b1cb-bca7e5718ac5",
   "metadata": {},
   "outputs": [],
   "source": [
    "fig = px.scatter_mapbox(moscow_df.iloc[:10000], lat='lat', lon='lon', hover_name='id', zoom=10, hover_data=[\"tags\"])\n",
    "fig.update_layout(mapbox_style=\"open-street-map\", height=1000)\n",
    "fig.update_layout(title='Plot of Points', hovermode='closest')\n",
    "fig.show()"
   ]
  },
  {
   "cell_type": "markdown",
   "id": "67ad2e11-c12e-42e3-aa8b-82c33ddd1000",
   "metadata": {},
   "source": [
    "## Мусор"
   ]
  }
 ],
 "metadata": {
  "kernelspec": {
   "display_name": "Python 3 (ipykernel)",
   "language": "python",
   "name": "python3"
  },
  "language_info": {
   "codemirror_mode": {
    "name": "ipython",
    "version": 3
   },
   "file_extension": ".py",
   "mimetype": "text/x-python",
   "name": "python",
   "nbconvert_exporter": "python",
   "pygments_lexer": "ipython3",
   "version": "3.8.18"
  }
 },
 "nbformat": 4,
 "nbformat_minor": 5
}
